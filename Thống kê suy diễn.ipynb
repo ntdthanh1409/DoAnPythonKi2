{
 "cells": [
  {
   "cell_type": "code",
   "execution_count": 1,
   "id": "d3d4c730",
   "metadata": {},
   "outputs": [],
   "source": [
    "import numpy as np\n",
    "import pandas as pd\n",
    "import matplotlib.pyplot as plt \n",
    "import seaborn as sns\n",
    "import statsmodels\n",
    "import statsmodels.api as sm\n",
    "from statsmodels.formula.api import ols\n",
    "import scipy  \n",
    "from scipy import stats"
   ]
  },
  {
   "cell_type": "code",
   "execution_count": 2,
   "id": "6ce1e515",
   "metadata": {},
   "outputs": [
    {
     "data": {
      "text/html": [
       "<div>\n",
       "<style scoped>\n",
       "    .dataframe tbody tr th:only-of-type {\n",
       "        vertical-align: middle;\n",
       "    }\n",
       "\n",
       "    .dataframe tbody tr th {\n",
       "        vertical-align: top;\n",
       "    }\n",
       "\n",
       "    .dataframe thead th {\n",
       "        text-align: right;\n",
       "    }\n",
       "</style>\n",
       "<table border=\"1\" class=\"dataframe\">\n",
       "  <thead>\n",
       "    <tr style=\"text-align: right;\">\n",
       "      <th></th>\n",
       "      <th>Person</th>\n",
       "      <th>gender</th>\n",
       "      <th>Age</th>\n",
       "      <th>Height</th>\n",
       "      <th>pre.weight</th>\n",
       "      <th>Diet</th>\n",
       "      <th>weight6weeks</th>\n",
       "    </tr>\n",
       "  </thead>\n",
       "  <tbody>\n",
       "    <tr>\n",
       "      <th>0</th>\n",
       "      <td>25</td>\n",
       "      <td></td>\n",
       "      <td>41</td>\n",
       "      <td>171</td>\n",
       "      <td>60</td>\n",
       "      <td>2</td>\n",
       "      <td>60.0</td>\n",
       "    </tr>\n",
       "    <tr>\n",
       "      <th>1</th>\n",
       "      <td>26</td>\n",
       "      <td></td>\n",
       "      <td>32</td>\n",
       "      <td>174</td>\n",
       "      <td>103</td>\n",
       "      <td>2</td>\n",
       "      <td>103.0</td>\n",
       "    </tr>\n",
       "    <tr>\n",
       "      <th>2</th>\n",
       "      <td>1</td>\n",
       "      <td>0</td>\n",
       "      <td>22</td>\n",
       "      <td>159</td>\n",
       "      <td>58</td>\n",
       "      <td>1</td>\n",
       "      <td>54.2</td>\n",
       "    </tr>\n",
       "    <tr>\n",
       "      <th>3</th>\n",
       "      <td>2</td>\n",
       "      <td>0</td>\n",
       "      <td>46</td>\n",
       "      <td>192</td>\n",
       "      <td>60</td>\n",
       "      <td>1</td>\n",
       "      <td>54.0</td>\n",
       "    </tr>\n",
       "    <tr>\n",
       "      <th>4</th>\n",
       "      <td>3</td>\n",
       "      <td>0</td>\n",
       "      <td>55</td>\n",
       "      <td>170</td>\n",
       "      <td>64</td>\n",
       "      <td>1</td>\n",
       "      <td>63.3</td>\n",
       "    </tr>\n",
       "    <tr>\n",
       "      <th>...</th>\n",
       "      <td>...</td>\n",
       "      <td>...</td>\n",
       "      <td>...</td>\n",
       "      <td>...</td>\n",
       "      <td>...</td>\n",
       "      <td>...</td>\n",
       "      <td>...</td>\n",
       "    </tr>\n",
       "    <tr>\n",
       "      <th>73</th>\n",
       "      <td>74</td>\n",
       "      <td>1</td>\n",
       "      <td>35</td>\n",
       "      <td>183</td>\n",
       "      <td>83</td>\n",
       "      <td>3</td>\n",
       "      <td>80.2</td>\n",
       "    </tr>\n",
       "    <tr>\n",
       "      <th>74</th>\n",
       "      <td>75</td>\n",
       "      <td>1</td>\n",
       "      <td>49</td>\n",
       "      <td>177</td>\n",
       "      <td>84</td>\n",
       "      <td>3</td>\n",
       "      <td>79.9</td>\n",
       "    </tr>\n",
       "    <tr>\n",
       "      <th>75</th>\n",
       "      <td>76</td>\n",
       "      <td>1</td>\n",
       "      <td>28</td>\n",
       "      <td>164</td>\n",
       "      <td>85</td>\n",
       "      <td>3</td>\n",
       "      <td>79.7</td>\n",
       "    </tr>\n",
       "    <tr>\n",
       "      <th>76</th>\n",
       "      <td>77</td>\n",
       "      <td>1</td>\n",
       "      <td>40</td>\n",
       "      <td>167</td>\n",
       "      <td>87</td>\n",
       "      <td>3</td>\n",
       "      <td>77.8</td>\n",
       "    </tr>\n",
       "    <tr>\n",
       "      <th>77</th>\n",
       "      <td>78</td>\n",
       "      <td>1</td>\n",
       "      <td>51</td>\n",
       "      <td>175</td>\n",
       "      <td>88</td>\n",
       "      <td>3</td>\n",
       "      <td>81.9</td>\n",
       "    </tr>\n",
       "  </tbody>\n",
       "</table>\n",
       "<p>78 rows × 7 columns</p>\n",
       "</div>"
      ],
      "text/plain": [
       "    Person gender  Age  Height  pre.weight  Diet  weight6weeks\n",
       "0       25          41     171          60     2          60.0\n",
       "1       26          32     174         103     2         103.0\n",
       "2        1      0   22     159          58     1          54.2\n",
       "3        2      0   46     192          60     1          54.0\n",
       "4        3      0   55     170          64     1          63.3\n",
       "..     ...    ...  ...     ...         ...   ...           ...\n",
       "73      74      1   35     183          83     3          80.2\n",
       "74      75      1   49     177          84     3          79.9\n",
       "75      76      1   28     164          85     3          79.7\n",
       "76      77      1   40     167          87     3          77.8\n",
       "77      78      1   51     175          88     3          81.9\n",
       "\n",
       "[78 rows x 7 columns]"
      ]
     },
     "execution_count": 2,
     "metadata": {},
     "output_type": "execute_result"
    }
   ],
   "source": [
    "# Tải dữ liệu vào\n",
    "data = pd.read_csv(\"Diet_R.csv\")\n",
    "data"
   ]
  },
  {
   "cell_type": "code",
   "execution_count": 3,
   "id": "a14632ee",
   "metadata": {},
   "outputs": [
    {
     "data": {
      "text/html": [
       "<div>\n",
       "<style scoped>\n",
       "    .dataframe tbody tr th:only-of-type {\n",
       "        vertical-align: middle;\n",
       "    }\n",
       "\n",
       "    .dataframe tbody tr th {\n",
       "        vertical-align: top;\n",
       "    }\n",
       "\n",
       "    .dataframe thead th {\n",
       "        text-align: right;\n",
       "    }\n",
       "</style>\n",
       "<table border=\"1\" class=\"dataframe\">\n",
       "  <thead>\n",
       "    <tr style=\"text-align: right;\">\n",
       "      <th></th>\n",
       "      <th>Person</th>\n",
       "      <th>gender</th>\n",
       "      <th>Age</th>\n",
       "      <th>Height</th>\n",
       "      <th>pre.weight</th>\n",
       "      <th>Diet</th>\n",
       "      <th>weight6weeks</th>\n",
       "    </tr>\n",
       "  </thead>\n",
       "  <tbody>\n",
       "    <tr>\n",
       "      <th>2</th>\n",
       "      <td>1</td>\n",
       "      <td>0</td>\n",
       "      <td>22</td>\n",
       "      <td>159</td>\n",
       "      <td>58</td>\n",
       "      <td>1</td>\n",
       "      <td>54.2</td>\n",
       "    </tr>\n",
       "    <tr>\n",
       "      <th>3</th>\n",
       "      <td>2</td>\n",
       "      <td>0</td>\n",
       "      <td>46</td>\n",
       "      <td>192</td>\n",
       "      <td>60</td>\n",
       "      <td>1</td>\n",
       "      <td>54.0</td>\n",
       "    </tr>\n",
       "    <tr>\n",
       "      <th>4</th>\n",
       "      <td>3</td>\n",
       "      <td>0</td>\n",
       "      <td>55</td>\n",
       "      <td>170</td>\n",
       "      <td>64</td>\n",
       "      <td>1</td>\n",
       "      <td>63.3</td>\n",
       "    </tr>\n",
       "    <tr>\n",
       "      <th>5</th>\n",
       "      <td>4</td>\n",
       "      <td>0</td>\n",
       "      <td>33</td>\n",
       "      <td>171</td>\n",
       "      <td>64</td>\n",
       "      <td>1</td>\n",
       "      <td>61.1</td>\n",
       "    </tr>\n",
       "    <tr>\n",
       "      <th>6</th>\n",
       "      <td>5</td>\n",
       "      <td>0</td>\n",
       "      <td>50</td>\n",
       "      <td>170</td>\n",
       "      <td>65</td>\n",
       "      <td>1</td>\n",
       "      <td>62.2</td>\n",
       "    </tr>\n",
       "    <tr>\n",
       "      <th>...</th>\n",
       "      <td>...</td>\n",
       "      <td>...</td>\n",
       "      <td>...</td>\n",
       "      <td>...</td>\n",
       "      <td>...</td>\n",
       "      <td>...</td>\n",
       "      <td>...</td>\n",
       "    </tr>\n",
       "    <tr>\n",
       "      <th>73</th>\n",
       "      <td>74</td>\n",
       "      <td>1</td>\n",
       "      <td>35</td>\n",
       "      <td>183</td>\n",
       "      <td>83</td>\n",
       "      <td>3</td>\n",
       "      <td>80.2</td>\n",
       "    </tr>\n",
       "    <tr>\n",
       "      <th>74</th>\n",
       "      <td>75</td>\n",
       "      <td>1</td>\n",
       "      <td>49</td>\n",
       "      <td>177</td>\n",
       "      <td>84</td>\n",
       "      <td>3</td>\n",
       "      <td>79.9</td>\n",
       "    </tr>\n",
       "    <tr>\n",
       "      <th>75</th>\n",
       "      <td>76</td>\n",
       "      <td>1</td>\n",
       "      <td>28</td>\n",
       "      <td>164</td>\n",
       "      <td>85</td>\n",
       "      <td>3</td>\n",
       "      <td>79.7</td>\n",
       "    </tr>\n",
       "    <tr>\n",
       "      <th>76</th>\n",
       "      <td>77</td>\n",
       "      <td>1</td>\n",
       "      <td>40</td>\n",
       "      <td>167</td>\n",
       "      <td>87</td>\n",
       "      <td>3</td>\n",
       "      <td>77.8</td>\n",
       "    </tr>\n",
       "    <tr>\n",
       "      <th>77</th>\n",
       "      <td>78</td>\n",
       "      <td>1</td>\n",
       "      <td>51</td>\n",
       "      <td>175</td>\n",
       "      <td>88</td>\n",
       "      <td>3</td>\n",
       "      <td>81.9</td>\n",
       "    </tr>\n",
       "  </tbody>\n",
       "</table>\n",
       "<p>76 rows × 7 columns</p>\n",
       "</div>"
      ],
      "text/plain": [
       "    Person gender  Age  Height  pre.weight  Diet  weight6weeks\n",
       "2        1      0   22     159          58     1          54.2\n",
       "3        2      0   46     192          60     1          54.0\n",
       "4        3      0   55     170          64     1          63.3\n",
       "5        4      0   33     171          64     1          61.1\n",
       "6        5      0   50     170          65     1          62.2\n",
       "..     ...    ...  ...     ...         ...   ...           ...\n",
       "73      74      1   35     183          83     3          80.2\n",
       "74      75      1   49     177          84     3          79.9\n",
       "75      76      1   28     164          85     3          79.7\n",
       "76      77      1   40     167          87     3          77.8\n",
       "77      78      1   51     175          88     3          81.9\n",
       "\n",
       "[76 rows x 7 columns]"
      ]
     },
     "execution_count": 3,
     "metadata": {},
     "output_type": "execute_result"
    }
   ],
   "source": [
    "# Index 25, 26 thiếu dữ liệu -> loại bỏ \n",
    "rm = data.drop([0, 1])\n",
    "rm"
   ]
  },
  {
   "cell_type": "code",
   "execution_count": 4,
   "id": "12c37898",
   "metadata": {},
   "outputs": [
    {
     "data": {
      "text/html": [
       "<div>\n",
       "<style scoped>\n",
       "    .dataframe tbody tr th:only-of-type {\n",
       "        vertical-align: middle;\n",
       "    }\n",
       "\n",
       "    .dataframe tbody tr th {\n",
       "        vertical-align: top;\n",
       "    }\n",
       "\n",
       "    .dataframe thead th {\n",
       "        text-align: right;\n",
       "    }\n",
       "</style>\n",
       "<table border=\"1\" class=\"dataframe\">\n",
       "  <thead>\n",
       "    <tr style=\"text-align: right;\">\n",
       "      <th></th>\n",
       "      <th>gender</th>\n",
       "      <th>Age</th>\n",
       "      <th>Height</th>\n",
       "      <th>pre.weight</th>\n",
       "      <th>Diet</th>\n",
       "      <th>weight6weeks</th>\n",
       "    </tr>\n",
       "    <tr>\n",
       "      <th>Person</th>\n",
       "      <th></th>\n",
       "      <th></th>\n",
       "      <th></th>\n",
       "      <th></th>\n",
       "      <th></th>\n",
       "      <th></th>\n",
       "    </tr>\n",
       "  </thead>\n",
       "  <tbody>\n",
       "    <tr>\n",
       "      <th>1</th>\n",
       "      <td>0</td>\n",
       "      <td>22</td>\n",
       "      <td>159</td>\n",
       "      <td>58</td>\n",
       "      <td>1</td>\n",
       "      <td>54.2</td>\n",
       "    </tr>\n",
       "    <tr>\n",
       "      <th>2</th>\n",
       "      <td>0</td>\n",
       "      <td>46</td>\n",
       "      <td>192</td>\n",
       "      <td>60</td>\n",
       "      <td>1</td>\n",
       "      <td>54.0</td>\n",
       "    </tr>\n",
       "    <tr>\n",
       "      <th>3</th>\n",
       "      <td>0</td>\n",
       "      <td>55</td>\n",
       "      <td>170</td>\n",
       "      <td>64</td>\n",
       "      <td>1</td>\n",
       "      <td>63.3</td>\n",
       "    </tr>\n",
       "    <tr>\n",
       "      <th>4</th>\n",
       "      <td>0</td>\n",
       "      <td>33</td>\n",
       "      <td>171</td>\n",
       "      <td>64</td>\n",
       "      <td>1</td>\n",
       "      <td>61.1</td>\n",
       "    </tr>\n",
       "    <tr>\n",
       "      <th>5</th>\n",
       "      <td>0</td>\n",
       "      <td>50</td>\n",
       "      <td>170</td>\n",
       "      <td>65</td>\n",
       "      <td>1</td>\n",
       "      <td>62.2</td>\n",
       "    </tr>\n",
       "    <tr>\n",
       "      <th>...</th>\n",
       "      <td>...</td>\n",
       "      <td>...</td>\n",
       "      <td>...</td>\n",
       "      <td>...</td>\n",
       "      <td>...</td>\n",
       "      <td>...</td>\n",
       "    </tr>\n",
       "    <tr>\n",
       "      <th>74</th>\n",
       "      <td>1</td>\n",
       "      <td>35</td>\n",
       "      <td>183</td>\n",
       "      <td>83</td>\n",
       "      <td>3</td>\n",
       "      <td>80.2</td>\n",
       "    </tr>\n",
       "    <tr>\n",
       "      <th>75</th>\n",
       "      <td>1</td>\n",
       "      <td>49</td>\n",
       "      <td>177</td>\n",
       "      <td>84</td>\n",
       "      <td>3</td>\n",
       "      <td>79.9</td>\n",
       "    </tr>\n",
       "    <tr>\n",
       "      <th>76</th>\n",
       "      <td>1</td>\n",
       "      <td>28</td>\n",
       "      <td>164</td>\n",
       "      <td>85</td>\n",
       "      <td>3</td>\n",
       "      <td>79.7</td>\n",
       "    </tr>\n",
       "    <tr>\n",
       "      <th>77</th>\n",
       "      <td>1</td>\n",
       "      <td>40</td>\n",
       "      <td>167</td>\n",
       "      <td>87</td>\n",
       "      <td>3</td>\n",
       "      <td>77.8</td>\n",
       "    </tr>\n",
       "    <tr>\n",
       "      <th>78</th>\n",
       "      <td>1</td>\n",
       "      <td>51</td>\n",
       "      <td>175</td>\n",
       "      <td>88</td>\n",
       "      <td>3</td>\n",
       "      <td>81.9</td>\n",
       "    </tr>\n",
       "  </tbody>\n",
       "</table>\n",
       "<p>76 rows × 6 columns</p>\n",
       "</div>"
      ],
      "text/plain": [
       "       gender  Age  Height  pre.weight  Diet  weight6weeks\n",
       "Person                                                    \n",
       "1           0   22     159          58     1          54.2\n",
       "2           0   46     192          60     1          54.0\n",
       "3           0   55     170          64     1          63.3\n",
       "4           0   33     171          64     1          61.1\n",
       "5           0   50     170          65     1          62.2\n",
       "...       ...  ...     ...         ...   ...           ...\n",
       "74          1   35     183          83     3          80.2\n",
       "75          1   49     177          84     3          79.9\n",
       "76          1   28     164          85     3          79.7\n",
       "77          1   40     167          87     3          77.8\n",
       "78          1   51     175          88     3          81.9\n",
       "\n",
       "[76 rows x 6 columns]"
      ]
     },
     "execution_count": 4,
     "metadata": {},
     "output_type": "execute_result"
    }
   ],
   "source": [
    "\n",
    "# Sắp xếp index \n",
    "\n",
    "t = rm.set_index('Person')\n",
    "data_new = t.sort_index()\n",
    "data_new"
   ]
  },
  {
   "cell_type": "markdown",
   "id": "10262320",
   "metadata": {},
   "source": [
    "## Task 1: Ignore diet and test to see if weight has been lost\n",
    "## Task 2: Remove weight lost and get students to calculate it using before/after weights"
   ]
  },
  {
   "cell_type": "code",
   "execution_count": 5,
   "id": "58a4b036",
   "metadata": {},
   "outputs": [
    {
     "data": {
      "text/plain": [
       "Person\n",
       "1     3.8\n",
       "2     6.0\n",
       "3     0.7\n",
       "4     2.9\n",
       "5     2.8\n",
       "     ... \n",
       "74    2.8\n",
       "75    4.1\n",
       "76    5.3\n",
       "77    9.2\n",
       "78    6.1\n",
       "Length: 76, dtype: float64"
      ]
     },
     "execution_count": 5,
     "metadata": {},
     "output_type": "execute_result"
    }
   ],
   "source": [
    "weightLOST = data_new['pre.weight'] - data_new['weight6weeks']\n",
    "weightLOST"
   ]
  },
  {
   "cell_type": "code",
   "execution_count": 6,
   "id": "4b91f7f3",
   "metadata": {},
   "outputs": [
    {
     "data": {
      "text/html": [
       "<div>\n",
       "<style scoped>\n",
       "    .dataframe tbody tr th:only-of-type {\n",
       "        vertical-align: middle;\n",
       "    }\n",
       "\n",
       "    .dataframe tbody tr th {\n",
       "        vertical-align: top;\n",
       "    }\n",
       "\n",
       "    .dataframe thead th {\n",
       "        text-align: right;\n",
       "    }\n",
       "</style>\n",
       "<table border=\"1\" class=\"dataframe\">\n",
       "  <thead>\n",
       "    <tr style=\"text-align: right;\">\n",
       "      <th></th>\n",
       "      <th>gender</th>\n",
       "      <th>Age</th>\n",
       "      <th>Height</th>\n",
       "      <th>Diet</th>\n",
       "      <th>pre.weight</th>\n",
       "      <th>weight6weeks</th>\n",
       "      <th>weightLOST</th>\n",
       "    </tr>\n",
       "    <tr>\n",
       "      <th>Person</th>\n",
       "      <th></th>\n",
       "      <th></th>\n",
       "      <th></th>\n",
       "      <th></th>\n",
       "      <th></th>\n",
       "      <th></th>\n",
       "      <th></th>\n",
       "    </tr>\n",
       "  </thead>\n",
       "  <tbody>\n",
       "    <tr>\n",
       "      <th>1</th>\n",
       "      <td>0</td>\n",
       "      <td>22</td>\n",
       "      <td>159</td>\n",
       "      <td>1</td>\n",
       "      <td>58</td>\n",
       "      <td>54.2</td>\n",
       "      <td>3.8</td>\n",
       "    </tr>\n",
       "    <tr>\n",
       "      <th>2</th>\n",
       "      <td>0</td>\n",
       "      <td>46</td>\n",
       "      <td>192</td>\n",
       "      <td>1</td>\n",
       "      <td>60</td>\n",
       "      <td>54.0</td>\n",
       "      <td>6.0</td>\n",
       "    </tr>\n",
       "    <tr>\n",
       "      <th>3</th>\n",
       "      <td>0</td>\n",
       "      <td>55</td>\n",
       "      <td>170</td>\n",
       "      <td>1</td>\n",
       "      <td>64</td>\n",
       "      <td>63.3</td>\n",
       "      <td>0.7</td>\n",
       "    </tr>\n",
       "    <tr>\n",
       "      <th>4</th>\n",
       "      <td>0</td>\n",
       "      <td>33</td>\n",
       "      <td>171</td>\n",
       "      <td>1</td>\n",
       "      <td>64</td>\n",
       "      <td>61.1</td>\n",
       "      <td>2.9</td>\n",
       "    </tr>\n",
       "    <tr>\n",
       "      <th>5</th>\n",
       "      <td>0</td>\n",
       "      <td>50</td>\n",
       "      <td>170</td>\n",
       "      <td>1</td>\n",
       "      <td>65</td>\n",
       "      <td>62.2</td>\n",
       "      <td>2.8</td>\n",
       "    </tr>\n",
       "    <tr>\n",
       "      <th>...</th>\n",
       "      <td>...</td>\n",
       "      <td>...</td>\n",
       "      <td>...</td>\n",
       "      <td>...</td>\n",
       "      <td>...</td>\n",
       "      <td>...</td>\n",
       "      <td>...</td>\n",
       "    </tr>\n",
       "    <tr>\n",
       "      <th>74</th>\n",
       "      <td>1</td>\n",
       "      <td>35</td>\n",
       "      <td>183</td>\n",
       "      <td>3</td>\n",
       "      <td>83</td>\n",
       "      <td>80.2</td>\n",
       "      <td>2.8</td>\n",
       "    </tr>\n",
       "    <tr>\n",
       "      <th>75</th>\n",
       "      <td>1</td>\n",
       "      <td>49</td>\n",
       "      <td>177</td>\n",
       "      <td>3</td>\n",
       "      <td>84</td>\n",
       "      <td>79.9</td>\n",
       "      <td>4.1</td>\n",
       "    </tr>\n",
       "    <tr>\n",
       "      <th>76</th>\n",
       "      <td>1</td>\n",
       "      <td>28</td>\n",
       "      <td>164</td>\n",
       "      <td>3</td>\n",
       "      <td>85</td>\n",
       "      <td>79.7</td>\n",
       "      <td>5.3</td>\n",
       "    </tr>\n",
       "    <tr>\n",
       "      <th>77</th>\n",
       "      <td>1</td>\n",
       "      <td>40</td>\n",
       "      <td>167</td>\n",
       "      <td>3</td>\n",
       "      <td>87</td>\n",
       "      <td>77.8</td>\n",
       "      <td>9.2</td>\n",
       "    </tr>\n",
       "    <tr>\n",
       "      <th>78</th>\n",
       "      <td>1</td>\n",
       "      <td>51</td>\n",
       "      <td>175</td>\n",
       "      <td>3</td>\n",
       "      <td>88</td>\n",
       "      <td>81.9</td>\n",
       "      <td>6.1</td>\n",
       "    </tr>\n",
       "  </tbody>\n",
       "</table>\n",
       "<p>76 rows × 7 columns</p>\n",
       "</div>"
      ],
      "text/plain": [
       "       gender  Age  Height  Diet  pre.weight  weight6weeks  weightLOST\n",
       "Person                                                                \n",
       "1           0   22     159     1          58          54.2         3.8\n",
       "2           0   46     192     1          60          54.0         6.0\n",
       "3           0   55     170     1          64          63.3         0.7\n",
       "4           0   33     171     1          64          61.1         2.9\n",
       "5           0   50     170     1          65          62.2         2.8\n",
       "...       ...  ...     ...   ...         ...           ...         ...\n",
       "74          1   35     183     3          83          80.2         2.8\n",
       "75          1   49     177     3          84          79.9         4.1\n",
       "76          1   28     164     3          85          79.7         5.3\n",
       "77          1   40     167     3          87          77.8         9.2\n",
       "78          1   51     175     3          88          81.9         6.1\n",
       "\n",
       "[76 rows x 7 columns]"
      ]
     },
     "execution_count": 6,
     "metadata": {},
     "output_type": "execute_result"
    }
   ],
   "source": [
    "pop = data_new.pop('pre.weight')\n",
    "data_new.insert(4, \"pre.weight\", pop)\n",
    "data_new.insert(6, 'weightLOST', weightLOST) \n",
    "data_new"
   ]
  },
  {
   "cell_type": "markdown",
   "id": "21354661",
   "metadata": {},
   "source": [
    "##### Nếu weightLOST > 0 => giảm cân thành công\n",
    "##### Nếu weightLOST = 0 => không có hiệu quả\n",
    "##### Nếu weightLOST < 0 => phản tác dụng"
   ]
  },
  {
   "cell_type": "code",
   "execution_count": 7,
   "id": "634453ed",
   "metadata": {},
   "outputs": [
    {
     "data": {
      "text/html": [
       "<div>\n",
       "<style scoped>\n",
       "    .dataframe tbody tr th:only-of-type {\n",
       "        vertical-align: middle;\n",
       "    }\n",
       "\n",
       "    .dataframe tbody tr th {\n",
       "        vertical-align: top;\n",
       "    }\n",
       "\n",
       "    .dataframe thead th {\n",
       "        text-align: right;\n",
       "    }\n",
       "</style>\n",
       "<table border=\"1\" class=\"dataframe\">\n",
       "  <thead>\n",
       "    <tr style=\"text-align: right;\">\n",
       "      <th></th>\n",
       "      <th>gender</th>\n",
       "      <th>Age</th>\n",
       "      <th>Height</th>\n",
       "      <th>Diet</th>\n",
       "      <th>pre.weight</th>\n",
       "      <th>weight6weeks</th>\n",
       "      <th>weightLOST</th>\n",
       "    </tr>\n",
       "    <tr>\n",
       "      <th>Person</th>\n",
       "      <th></th>\n",
       "      <th></th>\n",
       "      <th></th>\n",
       "      <th></th>\n",
       "      <th></th>\n",
       "      <th></th>\n",
       "      <th></th>\n",
       "    </tr>\n",
       "  </thead>\n",
       "  <tbody>\n",
       "  </tbody>\n",
       "</table>\n",
       "</div>"
      ],
      "text/plain": [
       "Empty DataFrame\n",
       "Columns: [gender, Age, Height, Diet, pre.weight, weight6weeks, weightLOST]\n",
       "Index: []"
      ]
     },
     "execution_count": 7,
     "metadata": {},
     "output_type": "execute_result"
    }
   ],
   "source": [
    "lost_weight_no = data_new[data_new['weightLOST'] == 0]\n",
    "lost_weight_no"
   ]
  },
  {
   "cell_type": "code",
   "execution_count": 8,
   "id": "223d4d14",
   "metadata": {},
   "outputs": [
    {
     "data": {
      "text/html": [
       "<div>\n",
       "<style scoped>\n",
       "    .dataframe tbody tr th:only-of-type {\n",
       "        vertical-align: middle;\n",
       "    }\n",
       "\n",
       "    .dataframe tbody tr th {\n",
       "        vertical-align: top;\n",
       "    }\n",
       "\n",
       "    .dataframe thead th {\n",
       "        text-align: right;\n",
       "    }\n",
       "</style>\n",
       "<table border=\"1\" class=\"dataframe\">\n",
       "  <thead>\n",
       "    <tr style=\"text-align: right;\">\n",
       "      <th></th>\n",
       "      <th>gender</th>\n",
       "      <th>Age</th>\n",
       "      <th>Height</th>\n",
       "      <th>Diet</th>\n",
       "      <th>pre.weight</th>\n",
       "      <th>weight6weeks</th>\n",
       "      <th>weightLOST</th>\n",
       "    </tr>\n",
       "    <tr>\n",
       "      <th>Person</th>\n",
       "      <th></th>\n",
       "      <th></th>\n",
       "      <th></th>\n",
       "      <th></th>\n",
       "      <th></th>\n",
       "      <th></th>\n",
       "      <th></th>\n",
       "    </tr>\n",
       "  </thead>\n",
       "  <tbody>\n",
       "    <tr>\n",
       "      <th>1</th>\n",
       "      <td>0</td>\n",
       "      <td>22</td>\n",
       "      <td>159</td>\n",
       "      <td>1</td>\n",
       "      <td>58</td>\n",
       "      <td>54.2</td>\n",
       "      <td>3.8</td>\n",
       "    </tr>\n",
       "    <tr>\n",
       "      <th>2</th>\n",
       "      <td>0</td>\n",
       "      <td>46</td>\n",
       "      <td>192</td>\n",
       "      <td>1</td>\n",
       "      <td>60</td>\n",
       "      <td>54.0</td>\n",
       "      <td>6.0</td>\n",
       "    </tr>\n",
       "    <tr>\n",
       "      <th>3</th>\n",
       "      <td>0</td>\n",
       "      <td>55</td>\n",
       "      <td>170</td>\n",
       "      <td>1</td>\n",
       "      <td>64</td>\n",
       "      <td>63.3</td>\n",
       "      <td>0.7</td>\n",
       "    </tr>\n",
       "    <tr>\n",
       "      <th>4</th>\n",
       "      <td>0</td>\n",
       "      <td>33</td>\n",
       "      <td>171</td>\n",
       "      <td>1</td>\n",
       "      <td>64</td>\n",
       "      <td>61.1</td>\n",
       "      <td>2.9</td>\n",
       "    </tr>\n",
       "    <tr>\n",
       "      <th>5</th>\n",
       "      <td>0</td>\n",
       "      <td>50</td>\n",
       "      <td>170</td>\n",
       "      <td>1</td>\n",
       "      <td>65</td>\n",
       "      <td>62.2</td>\n",
       "      <td>2.8</td>\n",
       "    </tr>\n",
       "    <tr>\n",
       "      <th>...</th>\n",
       "      <td>...</td>\n",
       "      <td>...</td>\n",
       "      <td>...</td>\n",
       "      <td>...</td>\n",
       "      <td>...</td>\n",
       "      <td>...</td>\n",
       "      <td>...</td>\n",
       "    </tr>\n",
       "    <tr>\n",
       "      <th>74</th>\n",
       "      <td>1</td>\n",
       "      <td>35</td>\n",
       "      <td>183</td>\n",
       "      <td>3</td>\n",
       "      <td>83</td>\n",
       "      <td>80.2</td>\n",
       "      <td>2.8</td>\n",
       "    </tr>\n",
       "    <tr>\n",
       "      <th>75</th>\n",
       "      <td>1</td>\n",
       "      <td>49</td>\n",
       "      <td>177</td>\n",
       "      <td>3</td>\n",
       "      <td>84</td>\n",
       "      <td>79.9</td>\n",
       "      <td>4.1</td>\n",
       "    </tr>\n",
       "    <tr>\n",
       "      <th>76</th>\n",
       "      <td>1</td>\n",
       "      <td>28</td>\n",
       "      <td>164</td>\n",
       "      <td>3</td>\n",
       "      <td>85</td>\n",
       "      <td>79.7</td>\n",
       "      <td>5.3</td>\n",
       "    </tr>\n",
       "    <tr>\n",
       "      <th>77</th>\n",
       "      <td>1</td>\n",
       "      <td>40</td>\n",
       "      <td>167</td>\n",
       "      <td>3</td>\n",
       "      <td>87</td>\n",
       "      <td>77.8</td>\n",
       "      <td>9.2</td>\n",
       "    </tr>\n",
       "    <tr>\n",
       "      <th>78</th>\n",
       "      <td>1</td>\n",
       "      <td>51</td>\n",
       "      <td>175</td>\n",
       "      <td>3</td>\n",
       "      <td>88</td>\n",
       "      <td>81.9</td>\n",
       "      <td>6.1</td>\n",
       "    </tr>\n",
       "  </tbody>\n",
       "</table>\n",
       "<p>72 rows × 7 columns</p>\n",
       "</div>"
      ],
      "text/plain": [
       "       gender  Age  Height  Diet  pre.weight  weight6weeks  weightLOST\n",
       "Person                                                                \n",
       "1           0   22     159     1          58          54.2         3.8\n",
       "2           0   46     192     1          60          54.0         6.0\n",
       "3           0   55     170     1          64          63.3         0.7\n",
       "4           0   33     171     1          64          61.1         2.9\n",
       "5           0   50     170     1          65          62.2         2.8\n",
       "...       ...  ...     ...   ...         ...           ...         ...\n",
       "74          1   35     183     3          83          80.2         2.8\n",
       "75          1   49     177     3          84          79.9         4.1\n",
       "76          1   28     164     3          85          79.7         5.3\n",
       "77          1   40     167     3          87          77.8         9.2\n",
       "78          1   51     175     3          88          81.9         6.1\n",
       "\n",
       "[72 rows x 7 columns]"
      ]
     },
     "execution_count": 8,
     "metadata": {},
     "output_type": "execute_result"
    }
   ],
   "source": [
    "lost_weight_succ = data_new[data_new['weightLOST'] > 0]\n",
    "lost_weight_succ"
   ]
  },
  {
   "cell_type": "code",
   "execution_count": 9,
   "id": "6c00e84a",
   "metadata": {},
   "outputs": [
    {
     "data": {
      "text/html": [
       "<div>\n",
       "<style scoped>\n",
       "    .dataframe tbody tr th:only-of-type {\n",
       "        vertical-align: middle;\n",
       "    }\n",
       "\n",
       "    .dataframe tbody tr th {\n",
       "        vertical-align: top;\n",
       "    }\n",
       "\n",
       "    .dataframe thead th {\n",
       "        text-align: right;\n",
       "    }\n",
       "</style>\n",
       "<table border=\"1\" class=\"dataframe\">\n",
       "  <thead>\n",
       "    <tr style=\"text-align: right;\">\n",
       "      <th></th>\n",
       "      <th>gender</th>\n",
       "      <th>Age</th>\n",
       "      <th>Height</th>\n",
       "      <th>Diet</th>\n",
       "      <th>pre.weight</th>\n",
       "      <th>weight6weeks</th>\n",
       "      <th>weightLOST</th>\n",
       "    </tr>\n",
       "    <tr>\n",
       "      <th>Person</th>\n",
       "      <th></th>\n",
       "      <th></th>\n",
       "      <th></th>\n",
       "      <th></th>\n",
       "      <th></th>\n",
       "      <th></th>\n",
       "      <th></th>\n",
       "    </tr>\n",
       "  </thead>\n",
       "  <tbody>\n",
       "    <tr>\n",
       "      <th>15</th>\n",
       "      <td>1</td>\n",
       "      <td>39</td>\n",
       "      <td>168</td>\n",
       "      <td>1</td>\n",
       "      <td>71</td>\n",
       "      <td>71.6</td>\n",
       "      <td>-0.6</td>\n",
       "    </tr>\n",
       "    <tr>\n",
       "      <th>27</th>\n",
       "      <td>0</td>\n",
       "      <td>44</td>\n",
       "      <td>174</td>\n",
       "      <td>2</td>\n",
       "      <td>58</td>\n",
       "      <td>60.1</td>\n",
       "      <td>-2.1</td>\n",
       "    </tr>\n",
       "    <tr>\n",
       "      <th>40</th>\n",
       "      <td>0</td>\n",
       "      <td>29</td>\n",
       "      <td>169</td>\n",
       "      <td>2</td>\n",
       "      <td>77</td>\n",
       "      <td>77.5</td>\n",
       "      <td>-0.5</td>\n",
       "    </tr>\n",
       "    <tr>\n",
       "      <th>50</th>\n",
       "      <td>1</td>\n",
       "      <td>39</td>\n",
       "      <td>180</td>\n",
       "      <td>2</td>\n",
       "      <td>80</td>\n",
       "      <td>81.4</td>\n",
       "      <td>-1.4</td>\n",
       "    </tr>\n",
       "  </tbody>\n",
       "</table>\n",
       "</div>"
      ],
      "text/plain": [
       "       gender  Age  Height  Diet  pre.weight  weight6weeks  weightLOST\n",
       "Person                                                                \n",
       "15          1   39     168     1          71          71.6        -0.6\n",
       "27          0   44     174     2          58          60.1        -2.1\n",
       "40          0   29     169     2          77          77.5        -0.5\n",
       "50          1   39     180     2          80          81.4        -1.4"
      ]
     },
     "execution_count": 9,
     "metadata": {},
     "output_type": "execute_result"
    }
   ],
   "source": [
    "lost_weight_fail = data_new[data_new['weightLOST'] < 0]\n",
    "lost_weight_fail"
   ]
  },
  {
   "cell_type": "markdown",
   "id": "6c84fb49",
   "metadata": {},
   "source": [
    "\n",
    "Nhận xét:\n",
    "\n",
    "\n",
    "Có 72/76 trường hợp thực hiện giảm cân hiệu quả\n",
    "\n",
    "Có 4/76 trường hợp thực hiện giảm cân bị phản tác dụng tức là tăng cân"
   ]
  },
  {
   "cell_type": "markdown",
   "id": "e59c4298",
   "metadata": {},
   "source": [
    "\n",
    "#### Phát biểu giả thiết\n",
    "$H_0: \\mu_0 = \\mu_1$. Cân nặng trung bình của trước và sau khi giảm cân là như nhau\n",
    "\n",
    "$H_1: \\mu_0 \\neq \\mu_1$. Cân nặng trung bình của trước và sau khi giảm cân khác nhau"
   ]
  },
  {
   "cell_type": "code",
   "execution_count": 10,
   "id": "cb02f7a4",
   "metadata": {},
   "outputs": [],
   "source": [
    "pre_w = data_new['pre.weight']\n",
    "aft_w = data_new['weight6weeks']"
   ]
  },
  {
   "cell_type": "code",
   "execution_count": 11,
   "id": "1692b3c1",
   "metadata": {},
   "outputs": [
    {
     "name": "stdout",
     "output_type": "stream",
     "text": [
      "3.0342255247628476 0.0028431949414180584\n",
      "--------------------------------------------------\n",
      "Có đủ bằng chứng để bác bỏ giả thuyết H0. Điều này ngụ ý rằng cân nặng trước và sau khi giảm cân là có sự khác biệt.\n"
     ]
    }
   ],
   "source": [
    "#Sử dụng kiểm định ttest\n",
    "std1, p1 = scipy.stats.ttest_ind(pre_w, aft_w)\n",
    "print(std1, p1)\n",
    "print(\"-\"*50)\n",
    "alpha = 0.05\n",
    "if p1 < alpha:\n",
    "    print('Có đủ bằng chứng để bác bỏ giả thuyết H0. Điều này ngụ ý rằng cân nặng trước và sau khi giảm cân là có sự khác biệt.')\n",
    "else:\n",
    "    print('Không đủ bằng chứng để bác bỏ giả thiết H0. Điều này ngụ ý rằng cân nặng trước và sau khi giảm cân không có sự khác biệt')"
   ]
  },
  {
   "cell_type": "code",
   "execution_count": 12,
   "id": "303fd550",
   "metadata": {},
   "outputs": [
    {
     "data": {
      "text/plain": [
       "Text(0.5, 1.0, 'Weight before and after diet')"
      ]
     },
     "execution_count": 12,
     "metadata": {},
     "output_type": "execute_result"
    },
    {
     "data": {
      "text/plain": [
       "<Figure size 432x576 with 0 Axes>"
      ]
     },
     "metadata": {},
     "output_type": "display_data"
    },
    {
     "data": {
      "image/png": "[encoded data removed]",
      "text/plain": [
       "<Figure size 576x396 with 1 Axes>"
      ]
     },
     "metadata": {},
     "output_type": "display_data"
    }
   ],
   "source": [
    "# Biểu đồ cân nặng trước và sau khi giảm cân\n",
    "\n",
    "plt.figure(figsize=(6, 8))\n",
    "plt.style.use('seaborn')\n",
    "data_new[['pre.weight', 'weight6weeks']].plot(color= ['red', 'c'])\n",
    "plt.title('Weight before and after diet', fontsize=20)"
   ]
  },
  {
   "cell_type": "markdown",
   "id": "c93097ef",
   "metadata": {},
   "source": [
    "## Task 3: Summary statistics by diet"
   ]
  },
  {
   "cell_type": "code",
   "execution_count": 13,
   "id": "a0085973",
   "metadata": {},
   "outputs": [
    {
     "data": {
      "text/html": [
       "<div>\n",
       "<style scoped>\n",
       "    .dataframe tbody tr th:only-of-type {\n",
       "        vertical-align: middle;\n",
       "    }\n",
       "\n",
       "    .dataframe tbody tr th {\n",
       "        vertical-align: top;\n",
       "    }\n",
       "\n",
       "    .dataframe thead th {\n",
       "        text-align: right;\n",
       "    }\n",
       "</style>\n",
       "<table border=\"1\" class=\"dataframe\">\n",
       "  <thead>\n",
       "    <tr style=\"text-align: right;\">\n",
       "      <th></th>\n",
       "      <th>Diet</th>\n",
       "      <th>weightLOST</th>\n",
       "    </tr>\n",
       "    <tr>\n",
       "      <th>Person</th>\n",
       "      <th></th>\n",
       "      <th></th>\n",
       "    </tr>\n",
       "  </thead>\n",
       "  <tbody>\n",
       "    <tr>\n",
       "      <th>1</th>\n",
       "      <td>1</td>\n",
       "      <td>3.8</td>\n",
       "    </tr>\n",
       "    <tr>\n",
       "      <th>2</th>\n",
       "      <td>1</td>\n",
       "      <td>6.0</td>\n",
       "    </tr>\n",
       "    <tr>\n",
       "      <th>3</th>\n",
       "      <td>1</td>\n",
       "      <td>0.7</td>\n",
       "    </tr>\n",
       "    <tr>\n",
       "      <th>4</th>\n",
       "      <td>1</td>\n",
       "      <td>2.9</td>\n",
       "    </tr>\n",
       "    <tr>\n",
       "      <th>5</th>\n",
       "      <td>1</td>\n",
       "      <td>2.8</td>\n",
       "    </tr>\n",
       "    <tr>\n",
       "      <th>...</th>\n",
       "      <td>...</td>\n",
       "      <td>...</td>\n",
       "    </tr>\n",
       "    <tr>\n",
       "      <th>74</th>\n",
       "      <td>3</td>\n",
       "      <td>2.8</td>\n",
       "    </tr>\n",
       "    <tr>\n",
       "      <th>75</th>\n",
       "      <td>3</td>\n",
       "      <td>4.1</td>\n",
       "    </tr>\n",
       "    <tr>\n",
       "      <th>76</th>\n",
       "      <td>3</td>\n",
       "      <td>5.3</td>\n",
       "    </tr>\n",
       "    <tr>\n",
       "      <th>77</th>\n",
       "      <td>3</td>\n",
       "      <td>9.2</td>\n",
       "    </tr>\n",
       "    <tr>\n",
       "      <th>78</th>\n",
       "      <td>3</td>\n",
       "      <td>6.1</td>\n",
       "    </tr>\n",
       "  </tbody>\n",
       "</table>\n",
       "<p>76 rows × 2 columns</p>\n",
       "</div>"
      ],
      "text/plain": [
       "        Diet  weightLOST\n",
       "Person                  \n",
       "1          1         3.8\n",
       "2          1         6.0\n",
       "3          1         0.7\n",
       "4          1         2.9\n",
       "5          1         2.8\n",
       "...      ...         ...\n",
       "74         3         2.8\n",
       "75         3         4.1\n",
       "76         3         5.3\n",
       "77         3         9.2\n",
       "78         3         6.1\n",
       "\n",
       "[76 rows x 2 columns]"
      ]
     },
     "execution_count": 13,
     "metadata": {},
     "output_type": "execute_result"
    }
   ],
   "source": [
    "# Lấy slice data gồm \"Diet\" và \"weightLOST\" để phân tích \n",
    "\n",
    "data3 = data_new[['Diet', 'weightLOST']]\n",
    "data3"
   ]
  },
  {
   "cell_type": "code",
   "execution_count": 14,
   "id": "61418786",
   "metadata": {},
   "outputs": [],
   "source": [
    "# Lấy index đã phân loại\n",
    "\n",
    "diet = data3.groupby('Diet').groups"
   ]
  },
  {
   "cell_type": "code",
   "execution_count": 15,
   "id": "77a93069",
   "metadata": {},
   "outputs": [
    {
     "data": {
      "text/plain": [
       "Person\n",
       "1     3.8\n",
       "2     6.0\n",
       "3     0.7\n",
       "4     2.9\n",
       "5     2.8\n",
       "6     2.0\n",
       "7     2.0\n",
       "8     8.5\n",
       "9     1.9\n",
       "10    3.1\n",
       "11    1.5\n",
       "12    3.0\n",
       "13    3.6\n",
       "14    0.9\n",
       "15   -0.6\n",
       "16    1.1\n",
       "17    4.5\n",
       "18    4.1\n",
       "19    9.0\n",
       "20    2.4\n",
       "21    3.9\n",
       "22    3.5\n",
       "23    5.1\n",
       "24    3.5\n",
       "dtype: float64"
      ]
     },
     "execution_count": 15,
     "metadata": {},
     "output_type": "execute_result"
    }
   ],
   "source": [
    "# Lấy giá trị tương ứng ở cột des_weight \n",
    "\n",
    "type_1 = weightLOST[diet[1]]\n",
    "type_2 = weightLOST[diet[2]]\n",
    "type_3 = weightLOST[diet[3]]\n",
    "type_1"
   ]
  },
  {
   "cell_type": "markdown",
   "id": "18ca925c",
   "metadata": {},
   "source": [
    "##### Thống kê tóm tắt theo chế độ ăn uống"
   ]
  },
  {
   "cell_type": "code",
   "execution_count": 16,
   "id": "c6a66a6d",
   "metadata": {},
   "outputs": [
    {
     "data": {
      "text/html": [
       "<div>\n",
       "<style scoped>\n",
       "    .dataframe tbody tr th:only-of-type {\n",
       "        vertical-align: middle;\n",
       "    }\n",
       "\n",
       "    .dataframe tbody tr th {\n",
       "        vertical-align: top;\n",
       "    }\n",
       "\n",
       "    .dataframe thead th {\n",
       "        text-align: right;\n",
       "    }\n",
       "</style>\n",
       "<table border=\"1\" class=\"dataframe\">\n",
       "  <thead>\n",
       "    <tr style=\"text-align: right;\">\n",
       "      <th></th>\n",
       "      <th>Diet</th>\n",
       "      <th>weightLOST</th>\n",
       "    </tr>\n",
       "    <tr>\n",
       "      <th>Person</th>\n",
       "      <th></th>\n",
       "      <th></th>\n",
       "    </tr>\n",
       "  </thead>\n",
       "  <tbody>\n",
       "    <tr>\n",
       "      <th>1</th>\n",
       "      <td>1</td>\n",
       "      <td>3.8</td>\n",
       "    </tr>\n",
       "    <tr>\n",
       "      <th>2</th>\n",
       "      <td>1</td>\n",
       "      <td>6.0</td>\n",
       "    </tr>\n",
       "    <tr>\n",
       "      <th>3</th>\n",
       "      <td>1</td>\n",
       "      <td>0.7</td>\n",
       "    </tr>\n",
       "    <tr>\n",
       "      <th>4</th>\n",
       "      <td>1</td>\n",
       "      <td>2.9</td>\n",
       "    </tr>\n",
       "    <tr>\n",
       "      <th>5</th>\n",
       "      <td>1</td>\n",
       "      <td>2.8</td>\n",
       "    </tr>\n",
       "    <tr>\n",
       "      <th>...</th>\n",
       "      <td>...</td>\n",
       "      <td>...</td>\n",
       "    </tr>\n",
       "    <tr>\n",
       "      <th>74</th>\n",
       "      <td>3</td>\n",
       "      <td>2.8</td>\n",
       "    </tr>\n",
       "    <tr>\n",
       "      <th>75</th>\n",
       "      <td>3</td>\n",
       "      <td>4.1</td>\n",
       "    </tr>\n",
       "    <tr>\n",
       "      <th>76</th>\n",
       "      <td>3</td>\n",
       "      <td>5.3</td>\n",
       "    </tr>\n",
       "    <tr>\n",
       "      <th>77</th>\n",
       "      <td>3</td>\n",
       "      <td>9.2</td>\n",
       "    </tr>\n",
       "    <tr>\n",
       "      <th>78</th>\n",
       "      <td>3</td>\n",
       "      <td>6.1</td>\n",
       "    </tr>\n",
       "  </tbody>\n",
       "</table>\n",
       "<p>76 rows × 2 columns</p>\n",
       "</div>"
      ],
      "text/plain": [
       "        Diet  weightLOST\n",
       "Person                  \n",
       "1          1         3.8\n",
       "2          1         6.0\n",
       "3          1         0.7\n",
       "4          1         2.9\n",
       "5          1         2.8\n",
       "...      ...         ...\n",
       "74         3         2.8\n",
       "75         3         4.1\n",
       "76         3         5.3\n",
       "77         3         9.2\n",
       "78         3         6.1\n",
       "\n",
       "[76 rows x 2 columns]"
      ]
     },
     "execution_count": 16,
     "metadata": {},
     "output_type": "execute_result"
    }
   ],
   "source": [
    "#Lấy data gồm \"Diet\" và \"weightLOST\" để phân tích \n",
    "\n",
    "data3 = data_new[['Diet', 'weightLOST']]\n",
    "data3"
   ]
  },
  {
   "cell_type": "code",
   "execution_count": 17,
   "id": "2c82b5fa",
   "metadata": {},
   "outputs": [],
   "source": [
    "# Lấy index đã phân loại\n",
    "\n",
    "diet = data3.groupby('Diet').groups"
   ]
  },
  {
   "cell_type": "code",
   "execution_count": 18,
   "id": "104ce2be",
   "metadata": {},
   "outputs": [
    {
     "data": {
      "text/plain": [
       "Person\n",
       "1     3.8\n",
       "2     6.0\n",
       "3     0.7\n",
       "4     2.9\n",
       "5     2.8\n",
       "6     2.0\n",
       "7     2.0\n",
       "8     8.5\n",
       "9     1.9\n",
       "10    3.1\n",
       "11    1.5\n",
       "12    3.0\n",
       "13    3.6\n",
       "14    0.9\n",
       "15   -0.6\n",
       "16    1.1\n",
       "17    4.5\n",
       "18    4.1\n",
       "19    9.0\n",
       "20    2.4\n",
       "21    3.9\n",
       "22    3.5\n",
       "23    5.1\n",
       "24    3.5\n",
       "dtype: float64"
      ]
     },
     "execution_count": 18,
     "metadata": {},
     "output_type": "execute_result"
    }
   ],
   "source": [
    "# Lấy giá trị tương ứng ở cột des_weight \n",
    "\n",
    "type_1 = weightLOST[diet[1]]\n",
    "type_2 = weightLOST[diet[2]]\n",
    "type_3 = weightLOST[diet[3]]\n",
    "type_1\n"
   ]
  },
  {
   "cell_type": "markdown",
   "id": "99d5ac00",
   "metadata": {},
   "source": [
    "##### Thống kê đơn giản bằng hàm describe"
   ]
  },
  {
   "cell_type": "code",
   "execution_count": 19,
   "id": "2f3d8226",
   "metadata": {},
   "outputs": [
    {
     "data": {
      "text/plain": [
       "count    24.000000\n",
       "mean      3.300000\n",
       "std       2.240148\n",
       "min      -0.600000\n",
       "25%       1.975000\n",
       "50%       3.050000\n",
       "75%       3.950000\n",
       "max       9.000000\n",
       "dtype: float64"
      ]
     },
     "execution_count": 19,
     "metadata": {},
     "output_type": "execute_result"
    }
   ],
   "source": [
    "type_1.describe()"
   ]
  },
  {
   "cell_type": "code",
   "execution_count": 20,
   "id": "d70a1f33",
   "metadata": {},
   "outputs": [
    {
     "data": {
      "text/plain": [
       "count    25.000000\n",
       "mean      3.268000\n",
       "std       2.464535\n",
       "min      -2.100000\n",
       "25%       2.000000\n",
       "50%       3.500000\n",
       "75%       4.700000\n",
       "max       7.900000\n",
       "dtype: float64"
      ]
     },
     "execution_count": 20,
     "metadata": {},
     "output_type": "execute_result"
    }
   ],
   "source": [
    "type_2.describe()"
   ]
  },
  {
   "cell_type": "code",
   "execution_count": 21,
   "id": "22013d0b",
   "metadata": {},
   "outputs": [
    {
     "data": {
      "text/plain": [
       "count    27.000000\n",
       "mean      5.148148\n",
       "std       2.395568\n",
       "min       0.500000\n",
       "25%       3.450000\n",
       "50%       5.400000\n",
       "75%       7.000000\n",
       "max       9.200000\n",
       "dtype: float64"
      ]
     },
     "execution_count": 21,
     "metadata": {},
     "output_type": "execute_result"
    }
   ],
   "source": [
    "type_3.describe()"
   ]
  },
  {
   "cell_type": "markdown",
   "id": "a9646597",
   "metadata": {},
   "source": [
    "## Task 4: \n",
    "\n",
    "### 4.1: Which diet was best for losing weight?\n",
    "\n",
    "Xây dựng giả thiết:\n",
    "\n",
    "- $H_0: \\mu_1 = \\mu_2 = \\mu_3$\n",
    "\n",
    "- $H_1: \\mu_i \\neq \\mu_j$ (i $\\neq$ j ,  i, j $\\in \\overline{1,3}$)"
   ]
  },
  {
   "cell_type": "markdown",
   "id": "6ff2f858",
   "metadata": {},
   "source": [
    "##### Kiểm tra mỗi nhóm có thuộc phân phối chuẩn chưa?\n",
    "###### Sử dụng Shapiro-Wilk test\n",
    "Phát biểu giả thiết:\n",
    "\n",
    "$H_0$: Phân phối của feature là chuẩn\n",
    "\n",
    "$H_1$: Phân phối của feature là không chuẩn\n",
    "\n"
   ]
  },
  {
   "cell_type": "code",
   "execution_count": 22,
   "id": "0dd03500",
   "metadata": {},
   "outputs": [
    {
     "name": "stdout",
     "output_type": "stream",
     "text": [
      "stat=0.926, p=0.077\n",
      "Không thể bác bỏ giả thiết H0: Phân phối của dữ liệu là chuẩn\n",
      "Đủ điều kiện để phân tích tiếp\n"
     ]
    }
   ],
   "source": [
    "\n",
    "# Kiểm tra Type_1\n",
    "from scipy.stats import shapiro\n",
    "stat_type_1, p_type_1 = shapiro(type_1)\n",
    "print('stat=%.3f, p=%.3f' % (stat_type_1, p_type_1))\n",
    "if p_type_1 > 0.05:\n",
    "    print('Không thể bác bỏ giả thiết H0: Phân phối của dữ liệu là chuẩn')\n",
    "    print('Đủ điều kiện để phân tích tiếp')\n",
    "else:\n",
    "    print('Dữ liệu không tuân theo luật phân phối chuẩn')"
   ]
  },
  {
   "cell_type": "code",
   "execution_count": 23,
   "id": "c82d9909",
   "metadata": {},
   "outputs": [
    {
     "data": {
      "image/png": "[encoded data removed]",
      "text/plain": [
       "<Figure size 576x396 with 1 Axes>"
      ]
     },
     "metadata": {},
     "output_type": "display_data"
    }
   ],
   "source": [
    "\n",
    "mean = np.mean(type_1)\n",
    "# ddof=1 :: hiệu chỉnh\n",
    "std = np.std(type_1, ddof=1)\n",
    "domain = np.linspace(np.min(type_1), np.max(type_1))\n",
    "plt.plot(domain, stats.norm.pdf(domain, mean, std))\n",
    "#density=True :: chuẩn hóa dữ liệu về normal\n",
    "plt.hist(type_1, color='c', edgecolor='orange', density=True)\n",
    "plt.title(\"Type_1\", fontsize=20)\n",
    "plt.show()"
   ]
  },
  {
   "cell_type": "code",
   "execution_count": 24,
   "id": "96820816",
   "metadata": {},
   "outputs": [
    {
     "name": "stderr",
     "output_type": "stream",
     "text": [
      "C:\\Python39\\lib\\site-packages\\statsmodels\\graphics\\gofplots.py:993: UserWarning: marker is redundantly defined by the 'marker' keyword argument and the fmt string \"bo\" (-> marker='o'). The keyword argument will take precedence.\n",
      "  ax.plot(x, y, fmt, **plot_style)\n"
     ]
    },
    {
     "data": {
      "image/png": "[encoded data removed]",
      "text/plain": [
       "<Figure size 576x396 with 1 Axes>"
      ]
     },
     "metadata": {},
     "output_type": "display_data"
    },
    {
     "name": "stdout",
     "output_type": "stream",
     "text": [
      "        0\n",
      "0.25  2.0\n",
      "0.50  3.5\n",
      "0.75  4.7\n"
     ]
    }
   ],
   "source": [
    "#Sử dụng QQ plot để kiểm tra phân phối có chuẩn hay không?\n",
    "type1 =(type_1 - np.mean(type_1)) /np.std(type_1)\n",
    "sm.qqplot(type1, line='45')\n",
    "plt.show()\n",
    "a = [0.25,0.5,0.75]\n",
    "b = type_2.quantile(a)\n",
    "c = pd.DataFrame(b,a)\n",
    "print(c)"
   ]
  },
  {
   "cell_type": "code",
   "execution_count": 25,
   "id": "5b44e9b7",
   "metadata": {},
   "outputs": [
    {
     "name": "stdout",
     "output_type": "stream",
     "text": [
      "stat=0.979, p=0.872\n",
      "Không thể bác bỏ giả thiết H0: Phân phối của dữ liệu là chuẩn\n",
      "Đủ điều kiện để phân tích tiếp\n"
     ]
    }
   ],
   "source": [
    "# Kiểm tra Type_2\n",
    "\n",
    "stat_type_2, p_type_2 = shapiro(type_2)\n",
    "print('stat=%.3f, p=%.3f' % (stat_type_2, p_type_2))\n",
    "if p_type_2 > 0.05:\n",
    "    print('Không thể bác bỏ giả thiết H0: Phân phối của dữ liệu là chuẩn')\n",
    "    print('Đủ điều kiện để phân tích tiếp')\n",
    "else:\n",
    "    print('Dữ liệu không tuân theo luật phân phối chuẩn')"
   ]
  },
  {
   "cell_type": "code",
   "execution_count": 26,
   "id": "4dc3f689",
   "metadata": {},
   "outputs": [
    {
     "data": {
      "image/png": "[encoded data removed]",
      "text/plain": [
       "<Figure size 576x396 with 1 Axes>"
      ]
     },
     "metadata": {},
     "output_type": "display_data"
    }
   ],
   "source": [
    "mean = np.mean(type_2)\n",
    "# ddof=1 :: hiệu chỉnh\n",
    "std = np.std(type_2, ddof=1)\n",
    "domain = np.linspace(np.min(type_2), np.max(type_2))\n",
    "plt.plot(domain, stats.norm.pdf(domain, mean, std))\n",
    "#density=True :: chuẩn hóa dữ liệu về normal\n",
    "plt.hist(type_2, color='c', edgecolor='brown', density=True)\n",
    "plt.title(\"Type_2\", fontsize=20)\n",
    "plt.show()"
   ]
  },
  {
   "cell_type": "code",
   "execution_count": 27,
   "id": "93b5007c",
   "metadata": {},
   "outputs": [
    {
     "name": "stderr",
     "output_type": "stream",
     "text": [
      "C:\\Python39\\lib\\site-packages\\statsmodels\\graphics\\gofplots.py:993: UserWarning: marker is redundantly defined by the 'marker' keyword argument and the fmt string \"bo\" (-> marker='o'). The keyword argument will take precedence.\n",
      "  ax.plot(x, y, fmt, **plot_style)\n"
     ]
    },
    {
     "data": {
      "image/png": "[encoded data removed]",
      "text/plain": [
       "<Figure size 576x396 with 1 Axes>"
      ]
     },
     "metadata": {},
     "output_type": "display_data"
    },
    {
     "name": "stdout",
     "output_type": "stream",
     "text": [
      "        0\n",
      "0.25  2.0\n",
      "0.50  3.5\n",
      "0.75  4.7\n"
     ]
    }
   ],
   "source": [
    "#Sử dụng QQ plot để kiểm tra phân phối có chuẩn hay không?\n",
    "type2 =(type_2 - np.mean(type_2)) /np.std(type_2)\n",
    "sm.qqplot(type2, line='45')\n",
    "plt.show()\n",
    "a = [0.25,0.5,0.75]\n",
    "b = type_2.quantile(a)\n",
    "c = pd.DataFrame(b,a)\n",
    "print(c)"
   ]
  },
  {
   "cell_type": "code",
   "execution_count": 28,
   "id": "b3eac7d6",
   "metadata": {},
   "outputs": [
    {
     "name": "stdout",
     "output_type": "stream",
     "text": [
      "stat=0.960, p=0.372\n",
      "Không thể bác bỏ giả thiết H0: Phân phối của dữ liệu là chuẩn\n",
      "Đủ điều kiện để phân tích tiếp\n"
     ]
    }
   ],
   "source": [
    "# Kiểm tra Type_3\n",
    "\n",
    "stat_type_3, p_type_3 = shapiro(type_3)\n",
    "print('stat=%.3f, p=%.3f' % (stat_type_3, p_type_3))\n",
    "if p_type_3 > 0.05:\n",
    "    print('Không thể bác bỏ giả thiết H0: Phân phối của dữ liệu là chuẩn')\n",
    "    print('Đủ điều kiện để phân tích tiếp')\n",
    "else:\n",
    "    print('Dữ liệu không tuân theo luật phân phối chuẩn')"
   ]
  },
  {
   "cell_type": "code",
   "execution_count": 29,
   "id": "b6971ced",
   "metadata": {},
   "outputs": [
    {
     "data": {
      "image/png": "[encoded data removed]",
      "text/plain": [
       "<Figure size 576x396 with 1 Axes>"
      ]
     },
     "metadata": {},
     "output_type": "display_data"
    }
   ],
   "source": [
    "mean = np.mean(type_3)\n",
    "# ddof=1 :: hiệu chỉnh\n",
    "std = np.std(type_3, ddof=1)\n",
    "domain = np.linspace(np.min(type_3), np.max(type_3))\n",
    "plt.plot(domain, stats.norm.pdf(domain, mean, std))\n",
    "#density=True :: chuẩn hóa dữ liệu về normal\n",
    "plt.hist(type_3, color='c', edgecolor='brown', density=True)\n",
    "plt.title(\"Type_3\", fontsize=20)\n",
    "plt.show()"
   ]
  },
  {
   "cell_type": "code",
   "execution_count": 30,
   "id": "df988511",
   "metadata": {},
   "outputs": [
    {
     "name": "stderr",
     "output_type": "stream",
     "text": [
      "C:\\Python39\\lib\\site-packages\\statsmodels\\graphics\\gofplots.py:993: UserWarning: marker is redundantly defined by the 'marker' keyword argument and the fmt string \"bo\" (-> marker='o'). The keyword argument will take precedence.\n",
      "  ax.plot(x, y, fmt, **plot_style)\n"
     ]
    },
    {
     "data": {
      "image/png": "[encoded data removed]",
      "text/plain": [
       "<Figure size 576x396 with 1 Axes>"
      ]
     },
     "metadata": {},
     "output_type": "display_data"
    },
    {
     "name": "stdout",
     "output_type": "stream",
     "text": [
      "        0\n",
      "0.25  2.0\n",
      "0.50  3.5\n",
      "0.75  4.7\n"
     ]
    }
   ],
   "source": [
    "#Sử dụng QQ plot để kiểm tra phân phối có chuẩn hay không?\n",
    "type3 =(type_3 - np.mean(type_3)) /np.std(type_3)\n",
    "sm.qqplot(type3, line='45')\n",
    "plt.show()\n",
    "a = [0.25,0.5,0.75]\n",
    "b = type_2.quantile(a)\n",
    "c = pd.DataFrame(b,a)\n",
    "print(c)\n"
   ]
  },
  {
   "cell_type": "markdown",
   "id": "cb663fcb",
   "metadata": {},
   "source": [
    "\n",
    "#### Kiểm định tính thuần nhất phương sai (homogeneity of variance)"
   ]
  },
  {
   "cell_type": "markdown",
   "id": "af9f7136",
   "metadata": {},
   "source": [
    "##### Bartlett’s Test\n",
    "Phát biểu các giả thiết:\n",
    "\n",
    "$H_0$: Các feature đều có phương sai đồng nhất\n",
    "\n",
    "$H_1$: Có ít nhất 2 feature có phương sai khác nhau (lớn)\n",
    "\n",
    "Chú ý: Nếu p < 0.05 = $\\alpha$ thì loại giả thiết $H_0$. Tức là các feature không đồng nhất về phương sai"
   ]
  },
  {
   "cell_type": "code",
   "execution_count": 31,
   "id": "261c2085",
   "metadata": {},
   "outputs": [
    {
     "name": "stdout",
     "output_type": "stream",
     "text": [
      "0.21811133918795061 0.8966804982694925\n",
      "Không thể bác bỏ giả thiết H0. Các feature đồng nhất về phương sai\n",
      "Đủ điều kiện đê phân tích ANOVA\n"
     ]
    }
   ],
   "source": [
    "from scipy.stats import bartlett\n",
    "stat_bartlett, p_bartlett = bartlett(type_1, type_2, type_3)\n",
    "print(stat_bartlett, p_bartlett)\n",
    "if p_bartlett > 0.05:\n",
    "    print('Không thể bác bỏ giả thiết H0. Các feature đồng nhất về phương sai')\n",
    "    print('Đủ điều kiện đê phân tích ANOVA')\n",
    "else:\n",
    "    print('Các feature không đồng nhất về phương sai')"
   ]
  },
  {
   "cell_type": "code",
   "execution_count": 32,
   "id": "a6e6d0e4",
   "metadata": {},
   "outputs": [
    {
     "name": "stdout",
     "output_type": "stream",
     "text": [
      "P_value =  0.006595853108669741\n",
      "Có bằng chứng bác bỏ giả thuyết H0. Điều này ngụ ý rằng hiệu quả giữa các phương pháp có sự khác biệt\n"
     ]
    }
   ],
   "source": [
    "# Tiến hành phân tích ANOVA 1 chiều\n",
    "\n",
    "from scipy.stats import f_oneway\n",
    "std2 , p2 = f_oneway(type_1, type_2, type_3)\n",
    "print('P_value = ',p2)\n",
    "alpha = 0.05\n",
    "if (p2 < alpha):\n",
    "    print('Có bằng chứng bác bỏ giả thuyết H0. Điều này ngụ ý rằng hiệu quả giữa các phương pháp có sự khác biệt')\n",
    "else:\n",
    "    print('Không đủ bằng chứng bác bỏ giả thuyết H0. Điều này ngụ ý rằng hiệu quả giữa các phương pháp không có sự khác biệt.')"
   ]
  },
  {
   "cell_type": "code",
   "execution_count": 33,
   "id": "9c20b427",
   "metadata": {},
   "outputs": [
    {
     "data": {
      "text/html": [
       "<div>\n",
       "<style scoped>\n",
       "    .dataframe tbody tr th:only-of-type {\n",
       "        vertical-align: middle;\n",
       "    }\n",
       "\n",
       "    .dataframe tbody tr th {\n",
       "        vertical-align: top;\n",
       "    }\n",
       "\n",
       "    .dataframe thead th {\n",
       "        text-align: right;\n",
       "    }\n",
       "</style>\n",
       "<table border=\"1\" class=\"dataframe\">\n",
       "  <thead>\n",
       "    <tr style=\"text-align: right;\">\n",
       "      <th></th>\n",
       "      <th>sum_sq</th>\n",
       "      <th>df</th>\n",
       "      <th>F</th>\n",
       "      <th>PR(&gt;F)</th>\n",
       "    </tr>\n",
       "  </thead>\n",
       "  <tbody>\n",
       "    <tr>\n",
       "      <th>C(Diet)</th>\n",
       "      <td>60.527008</td>\n",
       "      <td>2.0</td>\n",
       "      <td>5.383104</td>\n",
       "      <td>0.006596</td>\n",
       "    </tr>\n",
       "    <tr>\n",
       "      <th>Residual</th>\n",
       "      <td>410.401807</td>\n",
       "      <td>73.0</td>\n",
       "      <td>NaN</td>\n",
       "      <td>NaN</td>\n",
       "    </tr>\n",
       "  </tbody>\n",
       "</table>\n",
       "</div>"
      ],
      "text/plain": [
       "              sum_sq    df         F    PR(>F)\n",
       "C(Diet)    60.527008   2.0  5.383104  0.006596\n",
       "Residual  410.401807  73.0       NaN       NaN"
      ]
     },
     "execution_count": 33,
     "metadata": {},
     "output_type": "execute_result"
    }
   ],
   "source": [
    "# ANOVA table\n",
    "\n",
    "import statsmodels.api as sm\n",
    "from statsmodels.formula.api import ols\n",
    "\n",
    "model = ols('weightLOST ~ C(Diet)', data=data_new).fit()\n",
    "aov_table = sm.stats.anova_lm(model, typ=2)\n",
    "aov_table"
   ]
  },
  {
   "cell_type": "code",
   "execution_count": 34,
   "id": "9b3a3050",
   "metadata": {},
   "outputs": [
    {
     "data": {
      "text/plain": [
       "<matplotlib.legend.Legend at 0x21367fcddf0>"
      ]
     },
     "execution_count": 34,
     "metadata": {},
     "output_type": "execute_result"
    },
    {
     "data": {
      "image/png": "[encoded data removed]",
      "text/plain": [
       "<Figure size 1080x720 with 1 Axes>"
      ]
     },
     "metadata": {},
     "output_type": "display_data"
    }
   ],
   "source": [
    "# Biểu đồ thể hiện mức độ hiệu quả của 3 loại ăn kiêng\n",
    "\n",
    "plt.figure(figsize=(15, 10))\n",
    "plt.plot(type_1)\n",
    "plt.plot(type_2)\n",
    "plt.plot(type_3)\n",
    "plt.title(\"Compare 3 type of diet\", fontsize=20)\n",
    "plt.xlabel(\"Index\", fontsize=15)\n",
    "plt.ylabel(\"Decrease_weight\", fontsize=15)\n",
    "plt.legend([\"Diet_type_1\", \"Diet_type_2\", \"Diet_type_3\"])"
   ]
  },
  {
   "cell_type": "code",
   "execution_count": 35,
   "id": "a0852f54",
   "metadata": {},
   "outputs": [],
   "source": [
    "diet = pd.DataFrame({'Type_1': type_1, 'Type_2': type_2, 'Type_3': type_3})\n"
   ]
  },
  {
   "cell_type": "code",
   "execution_count": 36,
   "id": "0713b9c8",
   "metadata": {},
   "outputs": [
    {
     "data": {
      "text/plain": [
       "Text(0, 0.5, 'Count')"
      ]
     },
     "execution_count": 36,
     "metadata": {},
     "output_type": "execute_result"
    },
    {
     "data": {
      "image/png": "[encoded data removed]",
      "text/plain": [
       "<Figure size 576x576 with 1 Axes>"
      ]
     },
     "metadata": {},
     "output_type": "display_data"
    }
   ],
   "source": [
    "# Vẽ boxplot cho 3 phương pháp ăn kiêng \n",
    "\n",
    "plt.figure(figsize=(8, 8))\n",
    "plt.title('Compare 3 type of diet ', fontsize=20)\n",
    "diet.boxplot()\n",
    "plt.ylabel('Count', fontsize=15)\n"
   ]
  },
  {
   "cell_type": "markdown",
   "id": "9f2c3450",
   "metadata": {},
   "source": [
    "## Kiểm định hậu ANOVA (Phân tích sâu ANOVA)"
   ]
  },
  {
   "cell_type": "markdown",
   "id": "cbc3e090",
   "metadata": {},
   "source": [
    "Kiểm tra hiệu quả ăn kiêng và xem phương pháp nào là hiệu quả nhẩt"
   ]
  },
  {
   "cell_type": "markdown",
   "id": "4bf6c29f",
   "metadata": {},
   "source": [
    "## Phát biểu giả thiết:\n",
    "\n",
    "Xét hiệu quả giữa phương pháp 1 và 2:\n",
    "\n",
    "- $H_0$: Phương pháp 1 và 2 cho hiệu quả tương đương\n",
    "- $H_1$: Một trong 2 phương pháp cho hiệu quả tốt hơn \n",
    "\n",
    "Xét hiệu quả giữa phương pháp 1 và 3:\n",
    "\n",
    "- $H_0$: Phương pháp 1 và 3 cho hiệu quả tương đương\n",
    "- $H_1$: Một trong 2 phương pháp cho hiệu quả tốt hơn \n",
    "\n",
    "\n",
    "Xét hiệu quả giữa phương pháp 2 và 3:\n",
    "\n",
    "- $H_0$: Phương pháp 2 và 3 cho hiệu quả tương đương\n",
    "- $H_1$: Một trong 2 phương pháp cho hiệu quả tốt hơn "
   ]
  },
  {
   "cell_type": "code",
   "execution_count": 37,
   "id": "d1bc9655",
   "metadata": {},
   "outputs": [
    {
     "data": {
      "text/html": [
       "<table class=\"simpletable\">\n",
       "<caption>Multiple Comparison of Means - Tukey HSD, FWER=0.05</caption>\n",
       "<tr>\n",
       "  <th>group1</th> <th>group2</th> <th>meandiff</th>  <th>p-adj</th>  <th>lower</th>   <th>upper</th> <th>reject</th>\n",
       "</tr>\n",
       "<tr>\n",
       "     <td>0</td>      <td>1</td>    <td>0.1221</td>  <td>0.8397</td> <td>-1.0408</td> <td>1.2851</td>  <td>False</td>\n",
       "</tr>\n",
       "</table>"
      ],
      "text/plain": [
       "<class 'statsmodels.iolib.table.SimpleTable'>"
      ]
     },
     "execution_count": 37,
     "metadata": {},
     "output_type": "execute_result"
    }
   ],
   "source": [
    "# Hậu kiểm ANOVA\n",
    "from statsmodels.stats.multicomp import pairwise_tukeyhsd\n",
    "tukey = pairwise_tukeyhsd(endog=data_new['weightLOST'],\n",
    "                          groups=data_new['gender'],\n",
    "                          alpha=0.05)\n",
    "tukey.summary()"
   ]
  },
  {
   "cell_type": "markdown",
   "id": "fb98dd11",
   "metadata": {},
   "source": [
    "### 4.2: Are there gender differences for weight lost?\n",
    "\n",
    "- Xây dựng giả thuyết \n",
    "\n",
    "    - $H_0:$ Khả năng giảm cân phụ thuộc vào giới tính\n",
    "\n",
    "    - $H_0:$ Khả năng giảm cân không phụ thuộc vào giới tính"
   ]
  },
  {
   "cell_type": "code",
   "execution_count": 38,
   "id": "dfabceb0",
   "metadata": {},
   "outputs": [
    {
     "data": {
      "text/html": [
       "<div>\n",
       "<style scoped>\n",
       "    .dataframe tbody tr th:only-of-type {\n",
       "        vertical-align: middle;\n",
       "    }\n",
       "\n",
       "    .dataframe tbody tr th {\n",
       "        vertical-align: top;\n",
       "    }\n",
       "\n",
       "    .dataframe thead th {\n",
       "        text-align: right;\n",
       "    }\n",
       "</style>\n",
       "<table border=\"1\" class=\"dataframe\">\n",
       "  <thead>\n",
       "    <tr style=\"text-align: right;\">\n",
       "      <th></th>\n",
       "      <th>gender</th>\n",
       "      <th>weightLOST</th>\n",
       "    </tr>\n",
       "    <tr>\n",
       "      <th>Person</th>\n",
       "      <th></th>\n",
       "      <th></th>\n",
       "    </tr>\n",
       "  </thead>\n",
       "  <tbody>\n",
       "    <tr>\n",
       "      <th>1</th>\n",
       "      <td>0</td>\n",
       "      <td>3.8</td>\n",
       "    </tr>\n",
       "    <tr>\n",
       "      <th>2</th>\n",
       "      <td>0</td>\n",
       "      <td>6.0</td>\n",
       "    </tr>\n",
       "    <tr>\n",
       "      <th>3</th>\n",
       "      <td>0</td>\n",
       "      <td>0.7</td>\n",
       "    </tr>\n",
       "    <tr>\n",
       "      <th>4</th>\n",
       "      <td>0</td>\n",
       "      <td>2.9</td>\n",
       "    </tr>\n",
       "    <tr>\n",
       "      <th>5</th>\n",
       "      <td>0</td>\n",
       "      <td>2.8</td>\n",
       "    </tr>\n",
       "    <tr>\n",
       "      <th>...</th>\n",
       "      <td>...</td>\n",
       "      <td>...</td>\n",
       "    </tr>\n",
       "    <tr>\n",
       "      <th>74</th>\n",
       "      <td>1</td>\n",
       "      <td>2.8</td>\n",
       "    </tr>\n",
       "    <tr>\n",
       "      <th>75</th>\n",
       "      <td>1</td>\n",
       "      <td>4.1</td>\n",
       "    </tr>\n",
       "    <tr>\n",
       "      <th>76</th>\n",
       "      <td>1</td>\n",
       "      <td>5.3</td>\n",
       "    </tr>\n",
       "    <tr>\n",
       "      <th>77</th>\n",
       "      <td>1</td>\n",
       "      <td>9.2</td>\n",
       "    </tr>\n",
       "    <tr>\n",
       "      <th>78</th>\n",
       "      <td>1</td>\n",
       "      <td>6.1</td>\n",
       "    </tr>\n",
       "  </tbody>\n",
       "</table>\n",
       "<p>76 rows × 2 columns</p>\n",
       "</div>"
      ],
      "text/plain": [
       "       gender  weightLOST\n",
       "Person                   \n",
       "1           0         3.8\n",
       "2           0         6.0\n",
       "3           0         0.7\n",
       "4           0         2.9\n",
       "5           0         2.8\n",
       "...       ...         ...\n",
       "74          1         2.8\n",
       "75          1         4.1\n",
       "76          1         5.3\n",
       "77          1         9.2\n",
       "78          1         6.1\n",
       "\n",
       "[76 rows x 2 columns]"
      ]
     },
     "execution_count": 38,
     "metadata": {},
     "output_type": "execute_result"
    }
   ],
   "source": [
    "data_gt= data_new[[ 'gender' ,'weightLOST']]\n",
    "data_gt "
   ]
  },
  {
   "cell_type": "code",
   "execution_count": 39,
   "id": "ad027f01",
   "metadata": {},
   "outputs": [
    {
     "data": {
      "image/png": "[encoded data removed]",
      "text/plain": [
       "<Figure size 576x396 with 1 Axes>"
      ]
     },
     "metadata": {},
     "output_type": "display_data"
    }
   ],
   "source": [
    "sns.set_style(\"whitegrid\")\n",
    "sns.histplot(data_gt, x='weightLOST', hue=\"gender\", element=\"poly\",multiple='dodge')\n",
    "plt.xlabel('Weight Lost',size=15)\n",
    "plt.title('Compare by gender ', size=18)\n",
    "plt.tight_layout()"
   ]
  },
  {
   "cell_type": "markdown",
   "id": "f0da2d4f",
   "metadata": {},
   "source": [
    "g=sns.boxplot(x='gender', y='weightLOST', data=data_gt, palette=['pink','cyan'])\n",
    "sns.swarmplot(x=\"gender\", y=\"weightLOST\", data=data_gt, color='red')\n",
    "plt.title('Compare by gender', size=18)\n",
    "g.set_xticklabels([\"Female\", \"Male\"])\n",
    "plt.xlabel('Gender',fontsize=15)\n",
    "plt.ylabel('Weight Lost',fontsize=15)\n",
    "plt.show()"
   ]
  },
  {
   "cell_type": "code",
   "execution_count": 40,
   "id": "24c6419b",
   "metadata": {},
   "outputs": [
    {
     "data": {
      "text/plain": [
       "{'0': [1, 2, 3, 4, 5, 6, 7, 8, 9, 10, 11, 12, 13, 14, 27, 28, 29, 30, 31, 32, 33, 34, 35, 36, 37, 38, 39, 40, 52, 53, 54, 55, 56, 57, 58, 59, 60, 61, 62, 63, 64, 65, 66], '1': [15, 16, 17, 18, 19, 20, 21, 22, 23, 24, 41, 42, 43, 44, 45, 46, 47, 48, 49, 50, 51, 67, 68, 69, 70, 71, 72, 73, 74, 75, 76, 77, 78]}"
      ]
     },
     "execution_count": 40,
     "metadata": {},
     "output_type": "execute_result"
    }
   ],
   "source": [
    "gr42 = data_gt.groupby('gender').groups\n",
    "gr42"
   ]
  },
  {
   "cell_type": "code",
   "execution_count": 41,
   "id": "e8181bf4",
   "metadata": {},
   "outputs": [],
   "source": [
    "gen0 = weightLOST[gr42['0']]\n",
    "gen1 = weightLOST[gr42['1']]"
   ]
  },
  {
   "cell_type": "markdown",
   "id": "0b8349f1",
   "metadata": {},
   "source": [
    "## Kiểm tra mỗi nhóm có thuộc phân phối chuẩn chưa\n",
    "Sử dụng Shapiro-Wilk test\n",
    "Phát biểu giả thiết:\n",
    "\n",
    "$H_0$: Phân phối của feature là chuẩn\n",
    "\n",
    "$H_1$: Phân phối của feature là không chuẩn"
   ]
  },
  {
   "cell_type": "code",
   "execution_count": 42,
   "id": "3f6a8ef5",
   "metadata": {},
   "outputs": [
    {
     "name": "stdout",
     "output_type": "stream",
     "text": [
      "stat=0.970, p=0.305\n",
      "Không thể bác bỏ giả thiết H0: Phân phối của dữ liệu là chuẩn\n",
      "Đủ điều kiện để phân tích tiếp\n"
     ]
    }
   ],
   "source": [
    "# Kiểm tra gen0\n",
    "\n",
    "stat_gen_0, p_gen_0 = shapiro(gen0)\n",
    "print('stat=%.3f, p=%.3f' % (stat_gen_0, p_gen_0))\n",
    "if p_gen_0 > 0.05:\n",
    "    print('Không thể bác bỏ giả thiết H0: Phân phối của dữ liệu là chuẩn')\n",
    "    print('Đủ điều kiện để phân tích tiếp')\n",
    "else:\n",
    "    print('Dữ liệu không tuân theo luật phân phối chuẩn')"
   ]
  },
  {
   "cell_type": "code",
   "execution_count": 43,
   "id": "ade83445",
   "metadata": {},
   "outputs": [
    {
     "data": {
      "image/png": "[encoded data removed]",
      "text/plain": [
       "<Figure size 576x396 with 1 Axes>"
      ]
     },
     "metadata": {},
     "output_type": "display_data"
    }
   ],
   "source": [
    "mean = np.mean(gen0)\n",
    "# ddof=1 :: hiệu chỉnh\n",
    "std = np.std(gen0, ddof=1)\n",
    "domain = np.linspace(np.min(gen0), np.max(gen0))\n",
    "plt.plot(domain, stats.norm.pdf(domain, mean, std))\n",
    "#density=True :: chuẩn hóa dữ liệu về normal\n",
    "plt.hist(gen0, color='orange', edgecolor='white', density=True)\n",
    "plt.title(\"Female\", fontsize=20)\n",
    "plt.show()"
   ]
  },
  {
   "cell_type": "code",
   "execution_count": 44,
   "id": "7d5ae9d3",
   "metadata": {},
   "outputs": [
    {
     "name": "stderr",
     "output_type": "stream",
     "text": [
      "C:\\Python39\\lib\\site-packages\\statsmodels\\graphics\\gofplots.py:993: UserWarning: marker is redundantly defined by the 'marker' keyword argument and the fmt string \"bo\" (-> marker='o'). The keyword argument will take precedence.\n",
      "  ax.plot(x, y, fmt, **plot_style)\n"
     ]
    },
    {
     "data": {
      "image/png": "[encoded data removed]",
      "text/plain": [
       "<Figure size 576x396 with 1 Axes>"
      ]
     },
     "metadata": {},
     "output_type": "display_data"
    },
    {
     "name": "stdout",
     "output_type": "stream",
     "text": [
      "        0\n",
      "0.25  2.0\n",
      "0.50  3.5\n",
      "0.75  4.7\n"
     ]
    }
   ],
   "source": [
    "#Sử dụng QQ plot để kiểm tra phân phối có chuẩn hay không?\n",
    "gen_0 =(gen0  - np.mean(gen0 )) /np.std(gen0 )\n",
    "sm.qqplot(gen_0 , line='45')\n",
    "plt.show()\n",
    "a = [0.25,0.5,0.75]\n",
    "b = type_2.quantile(a)\n",
    "c = pd.DataFrame(b,a)\n",
    "print(c)"
   ]
  },
  {
   "cell_type": "code",
   "execution_count": 45,
   "id": "f07f93bb",
   "metadata": {},
   "outputs": [
    {
     "name": "stdout",
     "output_type": "stream",
     "text": [
      "stat=0.975, p=0.638\n",
      "Không thể bác bỏ giả thiết H0: Phân phối của dữ liệu là chuẩn\n",
      "Đủ điều kiện để phân tích tiếp\n"
     ]
    }
   ],
   "source": [
    "# Kiểm tra gen1\n",
    "\n",
    "stat_gen_1, p_gen_1 = shapiro(gen1)\n",
    "print('stat=%.3f, p=%.3f' % (stat_gen_1, p_gen_1))\n",
    "if p_gen_1 > 0.05:\n",
    "    print('Không thể bác bỏ giả thiết H0: Phân phối của dữ liệu là chuẩn')\n",
    "    print('Đủ điều kiện để phân tích tiếp')\n",
    "else:\n",
    "    print('Dữ liệu không tuân theo luật phân phối chuẩn')"
   ]
  },
  {
   "cell_type": "code",
   "execution_count": 46,
   "id": "856ae574",
   "metadata": {},
   "outputs": [
    {
     "data": {
      "image/png": "[encoded data removed]",
      "text/plain": [
       "<Figure size 576x396 with 1 Axes>"
      ]
     },
     "metadata": {},
     "output_type": "display_data"
    }
   ],
   "source": [
    "mean = np.mean(gen1)\n",
    "# ddof=1 :: hiệu chỉnh\n",
    "std = np.std(gen1, ddof=1)\n",
    "domain = np.linspace(np.min(gen0), np.max(gen0))\n",
    "plt.plot(domain, stats.norm.pdf(domain, mean, std))\n",
    "#density=True :: chuẩn hóa dữ liệu về normal\n",
    "plt.hist(gen1, color='orange', edgecolor='white', density=True)\n",
    "plt.title(\"male\", fontsize=20)\n",
    "plt.show()"
   ]
  },
  {
   "cell_type": "code",
   "execution_count": 47,
   "id": "067a34ba",
   "metadata": {},
   "outputs": [
    {
     "name": "stderr",
     "output_type": "stream",
     "text": [
      "C:\\Python39\\lib\\site-packages\\statsmodels\\graphics\\gofplots.py:993: UserWarning: marker is redundantly defined by the 'marker' keyword argument and the fmt string \"bo\" (-> marker='o'). The keyword argument will take precedence.\n",
      "  ax.plot(x, y, fmt, **plot_style)\n"
     ]
    },
    {
     "data": {
      "image/png": "[encoded data removed]",
      "text/plain": [
       "<Figure size 576x396 with 1 Axes>"
      ]
     },
     "metadata": {},
     "output_type": "display_data"
    },
    {
     "name": "stdout",
     "output_type": "stream",
     "text": [
      "        0\n",
      "0.25  2.0\n",
      "0.50  3.5\n",
      "0.75  4.7\n"
     ]
    }
   ],
   "source": [
    "#Sử dụng QQ plot để kiểm tra phân phối có chuẩn hay không?\n",
    "gen_1 =(gen1  - np.mean(gen1 )) /np.std(gen1 )\n",
    "sm.qqplot(gen_1 , line='45')\n",
    "plt.show()\n",
    "a = [0.25,0.5,0.75]\n",
    "b = type_2.quantile(a)\n",
    "c = pd.DataFrame(b,a)\n",
    "print(c)"
   ]
  },
  {
   "cell_type": "markdown",
   "id": "3d490d9e",
   "metadata": {},
   "source": [
    "## Kiểm định tính thuần nhất phương sai (homogeneity of variance)\n",
    "### Bartlett’s Test\n",
    "Phát biểu các giả thiết:\n",
    "\n",
    "$H_0$: Các feature đều có phương sai đồng nhất\n",
    "\n",
    "$H_1$: Có ít nhất 2 feature có phương sai khác nhau (lớn)\n",
    "\n",
    "Chú ý: Nếu p < 0.05 = $\\alpha$ thì loại giả thiết $H_0$. Tức là các feature không đồng nhất về phương sai.\n",
    "\n"
   ]
  },
  {
   "cell_type": "code",
   "execution_count": 48,
   "id": "4bc2aac4",
   "metadata": {},
   "outputs": [
    {
     "name": "stdout",
     "output_type": "stream",
     "text": [
      "0.0010952221531771032 0.9735995151820288\n",
      "Không thể bác bỏ giả thiết H0. Các feature đồng nhất về phương sai\n",
      "Đủ điều kiện đê phân tích ANOVA\n"
     ]
    }
   ],
   "source": [
    "from scipy.stats import bartlett\n",
    "stat_bartlett, p_bartlett = bartlett(gen0, gen1)\n",
    "print(stat_bartlett, p_bartlett)\n",
    "if p_bartlett > 0.05:\n",
    "    print('Không thể bác bỏ giả thiết H0. Các feature đồng nhất về phương sai')\n",
    "    print('Đủ điều kiện đê phân tích ANOVA')\n",
    "else:\n",
    "    print('Các feature không đồng nhất về phương sai')"
   ]
  },
  {
   "cell_type": "markdown",
   "id": "b995d4ce",
   "metadata": {},
   "source": [
    "## Phân tích ANOVA"
   ]
  },
  {
   "cell_type": "code",
   "execution_count": 49,
   "id": "8ccdf305",
   "metadata": {},
   "outputs": [
    {
     "name": "stdout",
     "output_type": "stream",
     "text": [
      "P_value =  0.8348273886348012\n",
      "Không đủ bằng chứng bác bỏ giả thuyết H0. Điều này ngụ ý rằng hiệu quả giữa các phương pháp không ảnh hưởng bởi giới tính.\n"
     ]
    }
   ],
   "source": [
    "from scipy.stats import f_oneway\n",
    "std3 , p3 = f_oneway(gen0, gen1)\n",
    "print('P_value = ',p3)\n",
    "alpha = 0.05\n",
    "if (p3 < alpha):\n",
    "    print('Có bằng chứng bác bỏ giả thuyết H0. Điều này ngụ ý rằng hiệu quả giữa các phương pháp có ảnh hưởng bởi giới tính')\n",
    "else:\n",
    "    print('Không đủ bằng chứng bác bỏ giả thuyết H0. Điều này ngụ ý rằng hiệu quả giữa các phương pháp không ảnh hưởng bởi giới tính.')"
   ]
  },
  {
   "cell_type": "code",
   "execution_count": 50,
   "id": "a228f28f",
   "metadata": {},
   "outputs": [
    {
     "data": {
      "text/html": [
       "<div>\n",
       "<style scoped>\n",
       "    .dataframe tbody tr th:only-of-type {\n",
       "        vertical-align: middle;\n",
       "    }\n",
       "\n",
       "    .dataframe tbody tr th {\n",
       "        vertical-align: top;\n",
       "    }\n",
       "\n",
       "    .dataframe thead th {\n",
       "        text-align: right;\n",
       "    }\n",
       "</style>\n",
       "<table border=\"1\" class=\"dataframe\">\n",
       "  <thead>\n",
       "    <tr style=\"text-align: right;\">\n",
       "      <th></th>\n",
       "      <th>sum_sq</th>\n",
       "      <th>df</th>\n",
       "      <th>F</th>\n",
       "      <th>PR(&gt;F)</th>\n",
       "    </tr>\n",
       "  </thead>\n",
       "  <tbody>\n",
       "    <tr>\n",
       "      <th>C(gender)</th>\n",
       "      <td>0.278485</td>\n",
       "      <td>1.0</td>\n",
       "      <td>0.043786</td>\n",
       "      <td>0.834827</td>\n",
       "    </tr>\n",
       "    <tr>\n",
       "      <th>Residual</th>\n",
       "      <td>470.650331</td>\n",
       "      <td>74.0</td>\n",
       "      <td>NaN</td>\n",
       "      <td>NaN</td>\n",
       "    </tr>\n",
       "  </tbody>\n",
       "</table>\n",
       "</div>"
      ],
      "text/plain": [
       "               sum_sq    df         F    PR(>F)\n",
       "C(gender)    0.278485   1.0  0.043786  0.834827\n",
       "Residual   470.650331  74.0       NaN       NaN"
      ]
     },
     "execution_count": 50,
     "metadata": {},
     "output_type": "execute_result"
    }
   ],
   "source": [
    "# ANOVA Table\n",
    "\n",
    "import statsmodels.api as sm\n",
    "from statsmodels.formula.api import ols\n",
    "\n",
    "model = ols('weightLOST ~ C(gender)', data=data_new).fit()\n",
    "aov_table = sm.stats.anova_lm(model, typ=2)\n",
    "aov_table"
   ]
  },
  {
   "cell_type": "markdown",
   "id": "ff74c4d6",
   "metadata": {},
   "source": [
    "## Task 5: Effect of diet and gender on weight lost\n",
    "\n",
    "Giả thuyết:\n",
    "\n",
    "$H_0$: Hiệu quả giảm cân của nam và nữ là như nhau.\n",
    "\n",
    "$H_1$: Hiệu quả giảm cân của nam và nữ là khác nhau."
   ]
  },
  {
   "cell_type": "code",
   "execution_count": 51,
   "id": "a8d1b511",
   "metadata": {},
   "outputs": [
    {
     "data": {
      "text/html": [
       "<div>\n",
       "<style scoped>\n",
       "    .dataframe tbody tr th:only-of-type {\n",
       "        vertical-align: middle;\n",
       "    }\n",
       "\n",
       "    .dataframe tbody tr th {\n",
       "        vertical-align: top;\n",
       "    }\n",
       "\n",
       "    .dataframe thead th {\n",
       "        text-align: right;\n",
       "    }\n",
       "</style>\n",
       "<table border=\"1\" class=\"dataframe\">\n",
       "  <thead>\n",
       "    <tr style=\"text-align: right;\">\n",
       "      <th></th>\n",
       "      <th>mean1</th>\n",
       "      <th>mean2</th>\n",
       "      <th>score</th>\n",
       "      <th>p_value</th>\n",
       "      <th>KetLuan</th>\n",
       "    </tr>\n",
       "  </thead>\n",
       "  <tbody>\n",
       "    <tr>\n",
       "      <th></th>\n",
       "      <td>3.893023</td>\n",
       "      <td>4.015152</td>\n",
       "      <td>-0.318316</td>\n",
       "      <td>0.751823</td>\n",
       "      <td>Chấp nhận H0 với mức ý nghĩa 0.05</td>\n",
       "    </tr>\n",
       "  </tbody>\n",
       "</table>\n",
       "</div>"
      ],
      "text/plain": [
       "     mean1     mean2     score   p_value                            KetLuan\n",
       "  3.893023  4.015152 -0.318316  0.751823  Chấp nhận H0 với mức ý nghĩa 0.05"
      ]
     },
     "execution_count": 51,
     "metadata": {},
     "output_type": "execute_result"
    }
   ],
   "source": [
    "# Với mức ý nghĩa 5% thì hiệu quả giảm cân của nam và của nữ có khác nhau không\n",
    "\n",
    "\n",
    "def results(p, vals=['mean1', 'mean2'], alpha=0.05):\n",
    "    cols=['score', 'p_value', 'KetLuan']\n",
    "    if p['p_value'] < alpha:\n",
    "        p['KetLuan'] = f\"Chấp nhận H1 với mức ý nghĩa {alpha}\"\n",
    "    if p['p_value'] >= alpha:\n",
    "        p['KetLuan'] = f\"Chấp nhận H0 với mức ý nghĩa {alpha}\"\n",
    "    df = pd.DataFrame(p, index=[''])\n",
    "    if vals: cols = vals + cols\n",
    "    return df[cols]\n",
    "\n",
    "from scipy.stats import ttest_1samp\n",
    "\n",
    "p = {}\n",
    "p['mean1'] = np.mean(gen0)\n",
    "p['mean2'] = np.mean(gen1)\n",
    "p['score'], p['p_value'] = ttest_1samp(gen0, p['mean2'])\n",
    "results(p)"
   ]
  },
  {
   "cell_type": "markdown",
   "id": "28b29ed1",
   "metadata": {},
   "source": [
    "## Task 6: Means plot of weight lost by diet and gender "
   ]
  },
  {
   "cell_type": "code",
   "execution_count": 52,
   "id": "c6d01b28",
   "metadata": {},
   "outputs": [
    {
     "name": "stderr",
     "output_type": "stream",
     "text": [
      "<ipython-input-52-5ef3cc16fa3d>:2: SettingWithCopyWarning: \n",
      "A value is trying to be set on a copy of a slice from a DataFrame.\n",
      "Try using .loc[row_indexer,col_indexer] = value instead\n",
      "\n",
      "See the caveats in the documentation: https://pandas.pydata.org/pandas-docs/stable/user_guide/indexing.html#returning-a-view-versus-a-copy\n",
      "  task6['gender'] = task6['gender'].replace(to_replace =['0' ,'1'],\n"
     ]
    },
    {
     "data": {
      "text/html": [
       "<div>\n",
       "<style scoped>\n",
       "    .dataframe tbody tr th:only-of-type {\n",
       "        vertical-align: middle;\n",
       "    }\n",
       "\n",
       "    .dataframe tbody tr th {\n",
       "        vertical-align: top;\n",
       "    }\n",
       "\n",
       "    .dataframe thead th {\n",
       "        text-align: right;\n",
       "    }\n",
       "</style>\n",
       "<table border=\"1\" class=\"dataframe\">\n",
       "  <thead>\n",
       "    <tr style=\"text-align: right;\">\n",
       "      <th></th>\n",
       "      <th>gender</th>\n",
       "      <th>Diet</th>\n",
       "      <th>weightLOST</th>\n",
       "    </tr>\n",
       "    <tr>\n",
       "      <th>Person</th>\n",
       "      <th></th>\n",
       "      <th></th>\n",
       "      <th></th>\n",
       "    </tr>\n",
       "  </thead>\n",
       "  <tbody>\n",
       "    <tr>\n",
       "      <th>10</th>\n",
       "      <td>Female</td>\n",
       "      <td>1</td>\n",
       "      <td>3.1</td>\n",
       "    </tr>\n",
       "    <tr>\n",
       "      <th>20</th>\n",
       "      <td>Male</td>\n",
       "      <td>1</td>\n",
       "      <td>2.4</td>\n",
       "    </tr>\n",
       "    <tr>\n",
       "      <th>17</th>\n",
       "      <td>Male</td>\n",
       "      <td>1</td>\n",
       "      <td>4.5</td>\n",
       "    </tr>\n",
       "    <tr>\n",
       "      <th>61</th>\n",
       "      <td>Female</td>\n",
       "      <td>3</td>\n",
       "      <td>7.3</td>\n",
       "    </tr>\n",
       "    <tr>\n",
       "      <th>43</th>\n",
       "      <td>Male</td>\n",
       "      <td>2</td>\n",
       "      <td>5.8</td>\n",
       "    </tr>\n",
       "  </tbody>\n",
       "</table>\n",
       "</div>"
      ],
      "text/plain": [
       "        gender  Diet  weightLOST\n",
       "Person                          \n",
       "10      Female     1         3.1\n",
       "20        Male     1         2.4\n",
       "17        Male     1         4.5\n",
       "61      Female     3         7.3\n",
       "43        Male     2         5.8"
      ]
     },
     "execution_count": 52,
     "metadata": {},
     "output_type": "execute_result"
    }
   ],
   "source": [
    "task6 = data_new[['gender','Diet','weightLOST']]\n",
    "task6['gender'] = task6['gender'].replace(to_replace =['0' ,'1'], \n",
    "                            value =['Female','Male'])\n",
    "task6.sample(5)"
   ]
  },
  {
   "cell_type": "code",
   "execution_count": 53,
   "id": "340991ad",
   "metadata": {},
   "outputs": [
    {
     "data": {
      "text/plain": [
       "Text(0.5, 1.0, 'Plot of weight lost by diet and gender')"
      ]
     },
     "execution_count": 53,
     "metadata": {},
     "output_type": "execute_result"
    },
    {
     "data": {
      "image/png": "[encoded data removed]",
      "text/plain": [
       "<Figure size 576x396 with 1 Axes>"
      ]
     },
     "metadata": {},
     "output_type": "display_data"
    }
   ],
   "source": [
    "sns.set_theme(style=\"whitegrid\")\n",
    "g=sns.barplot(x=\"Diet\", y=\"weightLOST\", hue=\"gender\", data=task6, palette=['pink','cyan'])\n",
    "g.set_xticklabels([\"Type 1\", \"Type 2\", \"Type 3\"])\n",
    "g.set(ylim=(0, 7))\n",
    "plt.ylabel('Weight Lost',size=15)\n",
    "plt.xlabel('Diet', size=15)\n",
    "plt.title('Plot of weight lost by diet and gender', size=20)"
   ]
  },
  {
   "cell_type": "markdown",
   "id": "bb28a013",
   "metadata": {},
   "source": [
    "##### Two-way ANOVA\n",
    "Effect of diet and gender on weight lost"
   ]
  },
  {
   "cell_type": "code",
   "execution_count": 55,
   "id": "be401fa8",
   "metadata": {},
   "outputs": [
    {
     "data": {
      "text/html": [
       "<div>\n",
       "<style scoped>\n",
       "    .dataframe tbody tr th:only-of-type {\n",
       "        vertical-align: middle;\n",
       "    }\n",
       "\n",
       "    .dataframe tbody tr th {\n",
       "        vertical-align: top;\n",
       "    }\n",
       "\n",
       "    .dataframe thead th {\n",
       "        text-align: right;\n",
       "    }\n",
       "</style>\n",
       "<table border=\"1\" class=\"dataframe\">\n",
       "  <thead>\n",
       "    <tr style=\"text-align: right;\">\n",
       "      <th></th>\n",
       "      <th>sum_sq</th>\n",
       "      <th>df</th>\n",
       "      <th>F</th>\n",
       "      <th>PR(&gt;F)</th>\n",
       "    </tr>\n",
       "  </thead>\n",
       "  <tbody>\n",
       "    <tr>\n",
       "      <th>C(Diet)</th>\n",
       "      <td>60.417220</td>\n",
       "      <td>2.0</td>\n",
       "      <td>5.619026</td>\n",
       "      <td>0.005456</td>\n",
       "    </tr>\n",
       "    <tr>\n",
       "      <th>C(gender)</th>\n",
       "      <td>0.168696</td>\n",
       "      <td>1.0</td>\n",
       "      <td>0.031379</td>\n",
       "      <td>0.859910</td>\n",
       "    </tr>\n",
       "    <tr>\n",
       "      <th>C(Diet):C(gender)</th>\n",
       "      <td>33.904068</td>\n",
       "      <td>2.0</td>\n",
       "      <td>3.153204</td>\n",
       "      <td>0.048842</td>\n",
       "    </tr>\n",
       "    <tr>\n",
       "      <th>Residual</th>\n",
       "      <td>376.329043</td>\n",
       "      <td>70.0</td>\n",
       "      <td>NaN</td>\n",
       "      <td>NaN</td>\n",
       "    </tr>\n",
       "  </tbody>\n",
       "</table>\n",
       "</div>"
      ],
      "text/plain": [
       "                       sum_sq    df         F    PR(>F)\n",
       "C(Diet)             60.417220   2.0  5.619026  0.005456\n",
       "C(gender)            0.168696   1.0  0.031379  0.859910\n",
       "C(Diet):C(gender)   33.904068   2.0  3.153204  0.048842\n",
       "Residual           376.329043  70.0       NaN       NaN"
      ]
     },
     "execution_count": 55,
     "metadata": {},
     "output_type": "execute_result"
    }
   ],
   "source": [
    "import statsmodels.api as sm\n",
    "from statsmodels.formula.api import ols\n",
    "\n",
    "#perform two-way ANOVA\n",
    "model = ols('weightLOST ~ C(Diet) + C(gender) + C(Diet):C(gender)', data=data_new).fit()\n",
    "sm.stats.anova_lm(model, typ=2)"
   ]
  },
  {
   "cell_type": "markdown",
   "id": "7eea7a12",
   "metadata": {},
   "source": [
    "## Task 7: Add height to either ANOVA"
   ]
  },
  {
   "cell_type": "code",
   "execution_count": 57,
   "id": "7f248342",
   "metadata": {},
   "outputs": [
    {
     "data": {
      "text/html": [
       "<div>\n",
       "<style scoped>\n",
       "    .dataframe tbody tr th:only-of-type {\n",
       "        vertical-align: middle;\n",
       "    }\n",
       "\n",
       "    .dataframe tbody tr th {\n",
       "        vertical-align: top;\n",
       "    }\n",
       "\n",
       "    .dataframe thead th {\n",
       "        text-align: right;\n",
       "    }\n",
       "</style>\n",
       "<table border=\"1\" class=\"dataframe\">\n",
       "  <thead>\n",
       "    <tr style=\"text-align: right;\">\n",
       "      <th></th>\n",
       "      <th>Height</th>\n",
       "      <th>gender</th>\n",
       "      <th>Diet</th>\n",
       "      <th>weightLOST</th>\n",
       "    </tr>\n",
       "    <tr>\n",
       "      <th>Person</th>\n",
       "      <th></th>\n",
       "      <th></th>\n",
       "      <th></th>\n",
       "      <th></th>\n",
       "    </tr>\n",
       "  </thead>\n",
       "  <tbody>\n",
       "    <tr>\n",
       "      <th>1</th>\n",
       "      <td>159</td>\n",
       "      <td>0</td>\n",
       "      <td>1</td>\n",
       "      <td>3.8</td>\n",
       "    </tr>\n",
       "    <tr>\n",
       "      <th>2</th>\n",
       "      <td>192</td>\n",
       "      <td>0</td>\n",
       "      <td>1</td>\n",
       "      <td>6.0</td>\n",
       "    </tr>\n",
       "    <tr>\n",
       "      <th>3</th>\n",
       "      <td>170</td>\n",
       "      <td>0</td>\n",
       "      <td>1</td>\n",
       "      <td>0.7</td>\n",
       "    </tr>\n",
       "    <tr>\n",
       "      <th>4</th>\n",
       "      <td>171</td>\n",
       "      <td>0</td>\n",
       "      <td>1</td>\n",
       "      <td>2.9</td>\n",
       "    </tr>\n",
       "    <tr>\n",
       "      <th>5</th>\n",
       "      <td>170</td>\n",
       "      <td>0</td>\n",
       "      <td>1</td>\n",
       "      <td>2.8</td>\n",
       "    </tr>\n",
       "    <tr>\n",
       "      <th>...</th>\n",
       "      <td>...</td>\n",
       "      <td>...</td>\n",
       "      <td>...</td>\n",
       "      <td>...</td>\n",
       "    </tr>\n",
       "    <tr>\n",
       "      <th>74</th>\n",
       "      <td>183</td>\n",
       "      <td>1</td>\n",
       "      <td>3</td>\n",
       "      <td>2.8</td>\n",
       "    </tr>\n",
       "    <tr>\n",
       "      <th>75</th>\n",
       "      <td>177</td>\n",
       "      <td>1</td>\n",
       "      <td>3</td>\n",
       "      <td>4.1</td>\n",
       "    </tr>\n",
       "    <tr>\n",
       "      <th>76</th>\n",
       "      <td>164</td>\n",
       "      <td>1</td>\n",
       "      <td>3</td>\n",
       "      <td>5.3</td>\n",
       "    </tr>\n",
       "    <tr>\n",
       "      <th>77</th>\n",
       "      <td>167</td>\n",
       "      <td>1</td>\n",
       "      <td>3</td>\n",
       "      <td>9.2</td>\n",
       "    </tr>\n",
       "    <tr>\n",
       "      <th>78</th>\n",
       "      <td>175</td>\n",
       "      <td>1</td>\n",
       "      <td>3</td>\n",
       "      <td>6.1</td>\n",
       "    </tr>\n",
       "  </tbody>\n",
       "</table>\n",
       "<p>76 rows × 4 columns</p>\n",
       "</div>"
      ],
      "text/plain": [
       "        Height gender  Diet  weightLOST\n",
       "Person                                 \n",
       "1          159      0     1         3.8\n",
       "2          192      0     1         6.0\n",
       "3          170      0     1         0.7\n",
       "4          171      0     1         2.9\n",
       "5          170      0     1         2.8\n",
       "...        ...    ...   ...         ...\n",
       "74         183      1     3         2.8\n",
       "75         177      1     3         4.1\n",
       "76         164      1     3         5.3\n",
       "77         167      1     3         9.2\n",
       "78         175      1     3         6.1\n",
       "\n",
       "[76 rows x 4 columns]"
      ]
     },
     "execution_count": 57,
     "metadata": {},
     "output_type": "execute_result"
    }
   ],
   "source": [
    "data7 = data_new[['Height', 'gender', 'Diet', 'weightLOST']]\n",
    "data7"
   ]
  },
  {
   "cell_type": "code",
   "execution_count": 58,
   "id": "1210da6c",
   "metadata": {},
   "outputs": [
    {
     "data": {
      "text/html": [
       "<div>\n",
       "<style scoped>\n",
       "    .dataframe tbody tr th:only-of-type {\n",
       "        vertical-align: middle;\n",
       "    }\n",
       "\n",
       "    .dataframe tbody tr th {\n",
       "        vertical-align: top;\n",
       "    }\n",
       "\n",
       "    .dataframe thead th {\n",
       "        text-align: right;\n",
       "    }\n",
       "</style>\n",
       "<table border=\"1\" class=\"dataframe\">\n",
       "  <thead>\n",
       "    <tr style=\"text-align: right;\">\n",
       "      <th></th>\n",
       "      <th>Source</th>\n",
       "      <th>SS</th>\n",
       "      <th>DF</th>\n",
       "      <th>F</th>\n",
       "      <th>p-unc</th>\n",
       "      <th>np2</th>\n",
       "    </tr>\n",
       "  </thead>\n",
       "  <tbody>\n",
       "    <tr>\n",
       "      <th>0</th>\n",
       "      <td>Diet</td>\n",
       "      <td>54.939344</td>\n",
       "      <td>2</td>\n",
       "      <td>4.824629</td>\n",
       "      <td>0.010807</td>\n",
       "      <td>0.118179</td>\n",
       "    </tr>\n",
       "    <tr>\n",
       "      <th>1</th>\n",
       "      <td>Height</td>\n",
       "      <td>0.460119</td>\n",
       "      <td>1</td>\n",
       "      <td>0.080813</td>\n",
       "      <td>0.777015</td>\n",
       "      <td>0.001121</td>\n",
       "    </tr>\n",
       "    <tr>\n",
       "      <th>2</th>\n",
       "      <td>Residual</td>\n",
       "      <td>409.941688</td>\n",
       "      <td>72</td>\n",
       "      <td>NaN</td>\n",
       "      <td>NaN</td>\n",
       "      <td>NaN</td>\n",
       "    </tr>\n",
       "  </tbody>\n",
       "</table>\n",
       "</div>"
      ],
      "text/plain": [
       "     Source          SS  DF         F     p-unc       np2\n",
       "0      Diet   54.939344   2  4.824629  0.010807  0.118179\n",
       "1    Height    0.460119   1  0.080813  0.777015  0.001121\n",
       "2  Residual  409.941688  72       NaN       NaN       NaN"
      ]
     },
     "execution_count": 58,
     "metadata": {},
     "output_type": "execute_result"
    }
   ],
   "source": [
    "from pingouin import ancova\n",
    "\n",
    "#perform ANCOVA\n",
    "ancova(data=data7, dv='weightLOST', covar='Height', between='Diet')"
   ]
  }
 ],
 "metadata": {
  "kernelspec": {
   "display_name": "Python 3",
   "language": "python",
   "name": "python3"
  },
  "language_info": {
   "codemirror_mode": {
    "name": "ipython",
    "version": 3
   },
   "file_extension": ".py",
   "mimetype": "text/x-python",
   "name": "python",
   "nbconvert_exporter": "python",
   "pygments_lexer": "ipython3",
   "version": "3.9.5"
  }
 },
 "nbformat": 4,
 "nbformat_minor": 5
}
